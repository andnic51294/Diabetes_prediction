{
  "nbformat": 4,
  "nbformat_minor": 0,
  "metadata": {
    "colab": {
      "name": "Combine_Features.ipynb",
      "provenance": [],
      "collapsed_sections": []
    },
    "kernelspec": {
      "name": "python3",
      "display_name": "Python 3"
    },
    "language_info": {
      "name": "python"
    }
  },
  "cells": [
    {
      "cell_type": "code",
      "execution_count": 2,
      "metadata": {
        "id": "LaOL9Q5ohTJO"
      },
      "outputs": [],
      "source": [
        "import numpy as np\n",
        "import pandas as pd\n",
        "import seaborn as sns\n",
        "import matplotlib.pyplot as plt\n",
        "import math\n",
        "from sklearn.model_selection import train_test_split"
      ]
    },
    {
      "cell_type": "code",
      "source": [
        "data = pd.read_csv('diabetes_012_health_indicators_BRFSS2015.csv')"
      ],
      "metadata": {
        "id": "k6wyLHNZhZsI"
      },
      "execution_count": 11,
      "outputs": []
    },
    {
      "cell_type": "code",
      "source": [
        "columns = list(data.columns)\n",
        "columns = columns[1:]\n",
        "print(columns)"
      ],
      "metadata": {
        "colab": {
          "base_uri": "https://localhost:8080/"
        },
        "id": "HMQpa93kJzJ_",
        "outputId": "93eff165-1c26-420b-bc90-282685b78286"
      },
      "execution_count": 12,
      "outputs": [
        {
          "output_type": "stream",
          "name": "stdout",
          "text": [
            "['HighBP', 'HighChol', 'CholCheck', 'BMI', 'Smoker', 'Stroke', 'HeartDiseaseorAttack', 'PhysActivity', 'Fruits', 'Veggies', 'HvyAlcoholConsump', 'AnyHealthcare', 'NoDocbcCost', 'GenHlth', 'MentHlth', 'PhysHlth', 'DiffWalk', 'Sex', 'Age', 'Education', 'Income']\n"
          ]
        }
      ]
    },
    {
      "cell_type": "code",
      "source": [
        "ff=[]\n",
        "ff.clear()\n",
        "columns = list(data.columns)\n",
        "for power1 in range (10,30,10):\n",
        "  for power2 in range (10,30,10):\n",
        "    for i,col1 in enumerate(columns):\n",
        "      for col2 in columns[i+1:]:\n",
        "        col_name = str(columns[i])+\"^\"+str(power1//10)+\" \"+\"*\"+str(col2)+\"^\"+str(power2//10)\n",
        "        ff.append(col_name)\n",
        "        print(col_name)\n",
        "        X[col_name] = (X[columns[i]]**(power1//10)) * (X[col2]**(power2//10))"
      ],
      "metadata": {
        "id": "hBnEcNoLGhL8"
      },
      "execution_count": null,
      "outputs": []
    },
    {
      "cell_type": "code",
      "source": [
        "print(len(ff))"
      ],
      "metadata": {
        "colab": {
          "base_uri": "https://localhost:8080/"
        },
        "id": "jKi2VyOnQ7qZ",
        "outputId": "77678fa7-2fbe-4386-ad59-fa424dc1f454"
      },
      "execution_count": 7,
      "outputs": [
        {
          "output_type": "stream",
          "name": "stdout",
          "text": [
            "840\n"
          ]
        }
      ]
    },
    {
      "cell_type": "code",
      "source": [
        "corr_mx = X.corr() # uses pearson correlation coeff by default\n",
        "\n",
        "for idx in range(corr_mx.shape[0]):\n",
        "    corr_mx.iloc[idx, idx] = 0\n",
        "\n",
        "#sns.set(rc={'figure.figsize':(20,20)})\n",
        "#sns.heatmap(corr_mx, annot=True)\n",
        "#plt.show()"
      ],
      "metadata": {
        "id": "QbsJMH3xhhMR"
      },
      "execution_count": 8,
      "outputs": []
    },
    {
      "cell_type": "code",
      "source": [
        "cols = list(corr_mx.columns)\n",
        "print(corr_mx[corr_mx['Diabetes_012'].abs()>0.3])"
      ],
      "metadata": {
        "colab": {
          "base_uri": "https://localhost:8080/"
        },
        "id": "t7l3ZcD8h1n8",
        "outputId": "21ce5519-9329-4d9e-b167-0840575d3131"
      },
      "execution_count": 9,
      "outputs": [
        {
          "output_type": "stream",
          "name": "stdout",
          "text": [
            "                        Diabetes_012  ...  Education^2 *Income^2\n",
            "GenHlth                     0.302587  ...              -0.372144\n",
            "HighBP^1 *BMI^1             0.308255  ...              -0.190171\n",
            "HighBP^1 *GenHlth^1         0.338174  ...              -0.263568\n",
            "CholCheck^1 *GenHlth^1      0.302368  ...              -0.328492\n",
            "BMI^1 *GenHlth^1            0.347464  ...              -0.335923\n",
            "GenHlth^1 *Age^1            0.327400  ...              -0.339250\n",
            "HighBP^1 *BMI^2             0.305821  ...              -0.178439\n",
            "HighBP^1 *GenHlth^2         0.343505  ...              -0.286839\n",
            "HighChol^1 *GenHlth^2       0.310671  ...              -0.236817\n",
            "CholCheck^1 *GenHlth^2      0.308926  ...              -0.352652\n",
            "BMI^1 *GenHlth^2            0.340946  ...              -0.349611\n",
            "HighBP^2 *BMI^1             0.308255  ...              -0.190171\n",
            "HighBP^2 *GenHlth^1         0.338174  ...              -0.263568\n",
            "CholCheck^2 *GenHlth^1      0.302368  ...              -0.328492\n",
            "BMI^2 *GenHlth^1            0.303325  ...              -0.254236\n",
            "GenHlth^2 *Age^1            0.326658  ...              -0.354935\n",
            "HighBP^2 *BMI^2             0.305821  ...              -0.178439\n",
            "HighBP^2 *GenHlth^2         0.343505  ...              -0.286839\n",
            "HighChol^2 *GenHlth^2       0.310671  ...              -0.236817\n",
            "CholCheck^2 *GenHlth^2      0.308926  ...              -0.352652\n",
            "BMI^2 *GenHlth^2            0.316064  ...              -0.285927\n",
            "GenHlth^2 *Age^2            0.300606  ...              -0.325929\n",
            "\n",
            "[22 rows x 862 columns]\n"
          ]
        }
      ]
    }
  ]
}