{
  "nbformat": 4,
  "nbformat_minor": 0,
  "metadata": {
    "colab": {
      "name": "Combine_Features.ipynb",
      "provenance": [],
      "collapsed_sections": []
    },
    "kernelspec": {
      "name": "python3",
      "display_name": "Python 3"
    },
    "language_info": {
      "name": "python"
    }
  },
  "cells": [
    {
      "cell_type": "code",
      "execution_count": 2,
      "metadata": {
        "id": "LaOL9Q5ohTJO"
      },
      "outputs": [],
      "source": [
        "import numpy as np\n",
        "import pandas as pd\n",
        "import seaborn as sns\n",
        "import matplotlib.pyplot as plt\n",
        "import math\n",
        "from sklearn.model_selection import train_test_split"
      ]
    },
    {
      "cell_type": "code",
      "source": [
        "data = pd.read_csv('diabetes_012_health_indicators_BRFSS2015.csv')"
      ],
      "metadata": {
        "id": "k6wyLHNZhZsI"
      },
      "execution_count": 11,
      "outputs": []
    },
    {
      "cell_type": "code",
      "source": [
        "data_train, data_test= train_test_split( data, test_size=0.2, random_state=20)"
      ],
      "metadata": {
        "id": "76T7tMjsqNW6"
      },
      "execution_count": 12,
      "outputs": []
    },
    {
      "cell_type": "code",
      "source": [
        "print(data_train.shape, data_test.shape)"
      ],
      "metadata": {
        "colab": {
          "base_uri": "https://localhost:8080/"
        },
        "id": "IDKIjlSrqZsz",
        "outputId": "171d988f-fe45-4cba-8020-c82c2e33744e"
      },
      "execution_count": 13,
      "outputs": [
        {
          "output_type": "stream",
          "name": "stdout",
          "text": [
            "(202944, 22) (50736, 22)\n"
          ]
        }
      ]
    },
    {
      "cell_type": "code",
      "source": [
        "columns = list(data_train.columns)\n",
        "columns = columns[1:]\n",
        "print(columns)"
      ],
      "metadata": {
        "colab": {
          "base_uri": "https://localhost:8080/"
        },
        "id": "HMQpa93kJzJ_",
        "outputId": "c4d47476-fe23-4e22-e3bd-bcbf6be14f0a"
      },
      "execution_count": 14,
      "outputs": [
        {
          "output_type": "stream",
          "name": "stdout",
          "text": [
            "['HighBP', 'HighChol', 'CholCheck', 'BMI', 'Smoker', 'Stroke', 'HeartDiseaseorAttack', 'PhysActivity', 'Fruits', 'Veggies', 'HvyAlcoholConsump', 'AnyHealthcare', 'NoDocbcCost', 'GenHlth', 'MentHlth', 'PhysHlth', 'DiffWalk', 'Sex', 'Age', 'Education', 'Income']\n"
          ]
        }
      ]
    },
    {
      "cell_type": "code",
      "source": [
        "poly_ftr=[]\n",
        "poly_ftr.clear()\n",
        "for power1 in range (-30,35,5):\n",
        "  for power2 in range (-30,35,5):\n",
        "    for i,col1 in enumerate(columns):\n",
        "      for col2 in columns[i+1:]:\n",
        "        col_name = str(columns[i])+\"^\"+str(power1/10)+\" \"+\"*\"+str(col2)+\"^\"+str(power2/10)\n",
        "        poly_ftr.append(col_name)\n",
        "        #print(col_name)\n",
        "        data_train[col_name] = (data_train[columns[i]]**(power1/10)) * (data_train[col2]**(power2/10))"
      ],
      "metadata": {
        "id": "hBnEcNoLGhL8"
      },
      "execution_count": 9,
      "outputs": []
    },
    {
      "cell_type": "code",
      "source": [
        "print(data_train.shape)   #this dataframe contains the target\n",
        "print(len(columns))\n",
        "print(len(poly_ftr))"
      ],
      "metadata": {
        "id": "jKi2VyOnQ7qZ"
      },
      "execution_count": null,
      "outputs": []
    },
    {
      "cell_type": "code",
      "source": [
        "corr_mx = data_train.corr() # uses pearson correlation coeff by default\n",
        "\n",
        "for idx in range(corr_mx.shape[0]):\n",
        "    corr_mx.iloc[idx, idx] = 0\n",
        "\n",
        "#sns.set(rc={'figure.figsize':(20,20)})\n",
        "#sns.heatmap(corr_mx, annot=True)\n",
        "#plt.show()"
      ],
      "metadata": {
        "id": "QbsJMH3xhhMR"
      },
      "execution_count": 9,
      "outputs": []
    },
    {
      "cell_type": "code",
      "source": [
        "cols = list(corr_mx.columns)\n",
        "print(cols)\n",
        "print(corr_mx[corr_mx['Diabetes_012'].abs()>0.3])"
      ],
      "metadata": {
        "id": "t7l3ZcD8h1n8"
      },
      "execution_count": null,
      "outputs": []
    }
  ]
}
