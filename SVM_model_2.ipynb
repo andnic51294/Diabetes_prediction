{
  "cells": [
    {
      "cell_type": "markdown",
      "source": [
        "**0)**"
      ],
      "metadata": {
        "id": "XOIaXd_s-vad"
      }
    },
    {
      "cell_type": "code",
      "execution_count": 1,
      "metadata": {
        "id": "6KmHEFlm32Oj"
      },
      "outputs": [],
      "source": [
        "import numpy as np\n",
        "import pandas as pd\n",
        "import seaborn as sns\n",
        "import matplotlib.pyplot as plt\n",
        "import math\n",
        "from sklearn.model_selection import train_test_split\n",
        "from collections import Counter\n",
        "from sklearn.metrics import confusion_matrix"
      ]
    },
    {
      "cell_type": "code",
      "execution_count": null,
      "metadata": {
        "id": "PSwPNV0ekRI7"
      },
      "outputs": [],
      "source": [
        "!pip install mlflow"
      ]
    },
    {
      "cell_type": "markdown",
      "source": [
        "**1)Reading the dataset and loading the correlations with the target**"
      ],
      "metadata": {
        "id": "D4a85oiVFX4s"
      }
    },
    {
      "cell_type": "code",
      "execution_count": null,
      "metadata": {
        "id": "GWrEtPr04nAw"
      },
      "outputs": [],
      "source": [
        "data = pd.read_csv('diabetes_012_health_indicators_BRFSS2015.csv')\n",
        "poly_corr = pd.read_csv('correlations.csv')                         #this CSV contains all the correlations with the target of the polynomial features which will be further created \n",
        "data = data.sample(frac=1)\n",
        "print(\"Dataset size: \", data.shape)\n",
        "print(data.columns)\n",
        "print(\"\\n\",data.head())\n",
        "print(\"\\ndiabetes has label 0\")\n",
        "print(\"pre-diabetes has label 1\")\n",
        "print(\"non-diabetes has label 2\\n\")\n",
        "d = dict(Counter(data['Diabetes_012'].values))\n",
        "for el in d:\n",
        "  print(round(d[el]/data.shape[0]*100,2),\"% of data is label \",int(el))"
      ]
    },
    {
      "cell_type": "code",
      "source": [
        "import numpy as np\n",
        "from sklearn.feature_selection import SelectKBest, f_classif\n",
        "\n",
        "predictors = list(data.columns)\n",
        "\n",
        "# Perform feature selection\n",
        "selector = SelectKBest(f_classif)\n",
        "selector.fit(data[predictors], data[\"Diabetes_012\"])\n",
        "\n",
        "# Get the raw p-values for each feature, and transform from p-values into scores\n",
        "scores = -np.log10(selector.pvalues_)\n",
        "\n",
        "# Plot the scores.  See how \"Pclass\", \"Sex\", \"Title\", and \"Fare\" are the best?\n",
        "plt.bar(range(len(predictors)), scores)\n",
        "plt.xticks(range(len(predictors)), predictors, rotation='vertical')\n",
        "plt.show()"
      ],
      "metadata": {
        "colab": {
          "base_uri": "https://localhost:8080/",
          "height": 434
        },
        "id": "YfHAep-LAkYT",
        "outputId": "d0b87dc4-32b2-4e45-c6aa-f25b869872c7"
      },
      "execution_count": 9,
      "outputs": [
        {
          "output_type": "stream",
          "name": "stderr",
          "text": [
            "/usr/local/lib/python3.7/dist-packages/sklearn/feature_selection/_univariate_selection.py:113: RuntimeWarning: divide by zero encountered in true_divide\n",
            "  f = msb / msw\n",
            "/usr/local/lib/python3.7/dist-packages/ipykernel_launcher.py:11: RuntimeWarning: divide by zero encountered in log10\n",
            "  # This is added back by InteractiveShellApp.init_path()\n"
          ]
        },
        {
          "output_type": "display_data",
          "data": {
            "image/png": "[encoded data removed]",
            "text/plain": [
              "<Figure size 432x288 with 1 Axes>"
            ]
          },
          "metadata": {
            "needs_background": "light"
          }
        }
      ]
    },
    {
      "cell_type": "code",
      "source": [
        "data.columns"
      ],
      "metadata": {
        "colab": {
          "base_uri": "https://localhost:8080/"
        },
        "id": "OFytvgOxBOGL",
        "outputId": "d41a3416-cae0-447f-f736-2c9467910d05"
      },
      "execution_count": 16,
      "outputs": [
        {
          "output_type": "execute_result",
          "data": {
            "text/plain": [
              "Index(['Diabetes_012', 'HighBP', 'HighChol', 'CholCheck', 'BMI', 'Smoker',\n",
              "       'Stroke', 'HeartDiseaseorAttack', 'PhysActivity', 'Fruits', 'Veggies',\n",
              "       'HvyAlcoholConsump', 'AnyHealthcare', 'NoDocbcCost', 'GenHlth',\n",
              "       'MentHlth', 'PhysHlth', 'DiffWalk', 'Sex', 'Age', 'Education',\n",
              "       'Income'],\n",
              "      dtype='object')"
            ]
          },
          "metadata": {},
          "execution_count": 16
        }
      ]
    },
    {
      "cell_type": "code",
      "source": [
        "kbest_data = data[data].copy#:len(data)//10].copy()\n",
        "kbest_data.pop('HighBP')\n",
        "kbest_data.pop('HighChol')\n",
        "kbest_data.pop('BMI')\n",
        "kbest_data.pop('Stroke')\n",
        "kbest_data.pop('HeartDiseaseorAttack')\n",
        "kbest_data.pop('PhysActivity')\n",
        "kbest_data.pop('GenHlth')\n",
        "kbest_data.pop('PhysHlth')\n",
        "kbest_data.pop('DiffWalk')\n",
        "kbest_data.pop('Age')\n",
        "kbest_data.pop('Education')\n",
        "kbest_data.pop('Income')\n"
      ],
      "metadata": {
        "id": "8z80O7EeA_56"
      },
      "execution_count": null,
      "outputs": []
    },
    {
      "cell_type": "code",
      "source": [
        "data=kbest_data\n",
        "data.head()"
      ],
      "metadata": {
        "id": "K6oOm32UEGDV",
        "outputId": "12cb793e-78d8-4b5a-a727-bb0501182f08",
        "colab": {
          "base_uri": "https://localhost:8080/",
          "height": 206
        }
      },
      "execution_count": 6,
      "outputs": [
        {
          "output_type": "execute_result",
          "data": {
            "text/html": [
              "\n",
              "  <div id=\"df-5335684c-a26c-41e6-97f2-ca05a9d12c84\">\n",
              "    <div class=\"colab-df-container\">\n",
              "      <div>\n",
              "<style scoped>\n",
              "    .dataframe tbody tr th:only-of-type {\n",
              "        vertical-align: middle;\n",
              "    }\n",
              "\n",
              "    .dataframe tbody tr th {\n",
              "        vertical-align: top;\n",
              "    }\n",
              "\n",
              "    .dataframe thead th {\n",
              "        text-align: right;\n",
              "    }\n",
              "</style>\n",
              "<table border=\"1\" class=\"dataframe\">\n",
              "  <thead>\n",
              "    <tr style=\"text-align: right;\">\n",
              "      <th></th>\n",
              "      <th>Diabetes_012</th>\n",
              "      <th>CholCheck</th>\n",
              "      <th>Smoker</th>\n",
              "      <th>Fruits</th>\n",
              "      <th>Veggies</th>\n",
              "      <th>HvyAlcoholConsump</th>\n",
              "      <th>AnyHealthcare</th>\n",
              "      <th>NoDocbcCost</th>\n",
              "      <th>MentHlth</th>\n",
              "      <th>Sex</th>\n",
              "    </tr>\n",
              "  </thead>\n",
              "  <tbody>\n",
              "    <tr>\n",
              "      <th>194346</th>\n",
              "      <td>0.0</td>\n",
              "      <td>1.0</td>\n",
              "      <td>0.0</td>\n",
              "      <td>0.0</td>\n",
              "      <td>0.0</td>\n",
              "      <td>0.0</td>\n",
              "      <td>1.0</td>\n",
              "      <td>0.0</td>\n",
              "      <td>0.0</td>\n",
              "      <td>0.0</td>\n",
              "    </tr>\n",
              "    <tr>\n",
              "      <th>31209</th>\n",
              "      <td>0.0</td>\n",
              "      <td>1.0</td>\n",
              "      <td>1.0</td>\n",
              "      <td>1.0</td>\n",
              "      <td>1.0</td>\n",
              "      <td>0.0</td>\n",
              "      <td>1.0</td>\n",
              "      <td>0.0</td>\n",
              "      <td>0.0</td>\n",
              "      <td>0.0</td>\n",
              "    </tr>\n",
              "    <tr>\n",
              "      <th>70445</th>\n",
              "      <td>1.0</td>\n",
              "      <td>1.0</td>\n",
              "      <td>1.0</td>\n",
              "      <td>0.0</td>\n",
              "      <td>1.0</td>\n",
              "      <td>0.0</td>\n",
              "      <td>1.0</td>\n",
              "      <td>1.0</td>\n",
              "      <td>0.0</td>\n",
              "      <td>1.0</td>\n",
              "    </tr>\n",
              "    <tr>\n",
              "      <th>241720</th>\n",
              "      <td>0.0</td>\n",
              "      <td>1.0</td>\n",
              "      <td>0.0</td>\n",
              "      <td>1.0</td>\n",
              "      <td>1.0</td>\n",
              "      <td>0.0</td>\n",
              "      <td>1.0</td>\n",
              "      <td>0.0</td>\n",
              "      <td>0.0</td>\n",
              "      <td>1.0</td>\n",
              "    </tr>\n",
              "    <tr>\n",
              "      <th>250993</th>\n",
              "      <td>0.0</td>\n",
              "      <td>1.0</td>\n",
              "      <td>0.0</td>\n",
              "      <td>1.0</td>\n",
              "      <td>1.0</td>\n",
              "      <td>0.0</td>\n",
              "      <td>1.0</td>\n",
              "      <td>0.0</td>\n",
              "      <td>30.0</td>\n",
              "      <td>0.0</td>\n",
              "    </tr>\n",
              "  </tbody>\n",
              "</table>\n",
              "</div>\n",
              "      <button class=\"colab-df-convert\" onclick=\"convertToInteractive('df-5335684c-a26c-41e6-97f2-ca05a9d12c84')\"\n",
              "              title=\"Convert this dataframe to an interactive table.\"\n",
              "              style=\"display:none;\">\n",
              "        \n",
              "  <svg xmlns=\"http://www.w3.org/2000/svg\" height=\"24px\"viewBox=\"0 0 24 24\"\n",
              "       width=\"24px\">\n",
              "    <path d=\"M0 0h24v24H0V0z\" fill=\"none\"/>\n",
              "    <path d=\"M18.56 5.44l.94 2.06.94-2.06 2.06-.94-2.06-.94-.94-2.06-.94 2.06-2.06.94zm-11 1L8.5 8.5l.94-2.06 2.06-.94-2.06-.94L8.5 2.5l-.94 2.06-2.06.94zm10 10l.94 2.06.94-2.06 2.06-.94-2.06-.94-.94-2.06-.94 2.06-2.06.94z\"/><path d=\"M17.41 7.96l-1.37-1.37c-.4-.4-.92-.59-1.43-.59-.52 0-1.04.2-1.43.59L10.3 9.45l-7.72 7.72c-.78.78-.78 2.05 0 2.83L4 21.41c.39.39.9.59 1.41.59.51 0 1.02-.2 1.41-.59l7.78-7.78 2.81-2.81c.8-.78.8-2.07 0-2.86zM5.41 20L4 18.59l7.72-7.72 1.47 1.35L5.41 20z\"/>\n",
              "  </svg>\n",
              "      </button>\n",
              "      \n",
              "  <style>\n",
              "    .colab-df-container {\n",
              "      display:flex;\n",
              "      flex-wrap:wrap;\n",
              "      gap: 12px;\n",
              "    }\n",
              "\n",
              "    .colab-df-convert {\n",
              "      background-color: #E8F0FE;\n",
              "      border: none;\n",
              "      border-radius: 50%;\n",
              "      cursor: pointer;\n",
              "      display: none;\n",
              "      fill: #1967D2;\n",
              "      height: 32px;\n",
              "      padding: 0 0 0 0;\n",
              "      width: 32px;\n",
              "    }\n",
              "\n",
              "    .colab-df-convert:hover {\n",
              "      background-color: #E2EBFA;\n",
              "      box-shadow: 0px 1px 2px rgba(60, 64, 67, 0.3), 0px 1px 3px 1px rgba(60, 64, 67, 0.15);\n",
              "      fill: #174EA6;\n",
              "    }\n",
              "\n",
              "    [theme=dark] .colab-df-convert {\n",
              "      background-color: #3B4455;\n",
              "      fill: #D2E3FC;\n",
              "    }\n",
              "\n",
              "    [theme=dark] .colab-df-convert:hover {\n",
              "      background-color: #434B5C;\n",
              "      box-shadow: 0px 1px 3px 1px rgba(0, 0, 0, 0.15);\n",
              "      filter: drop-shadow(0px 1px 2px rgba(0, 0, 0, 0.3));\n",
              "      fill: #FFFFFF;\n",
              "    }\n",
              "  </style>\n",
              "\n",
              "      <script>\n",
              "        const buttonEl =\n",
              "          document.querySelector('#df-5335684c-a26c-41e6-97f2-ca05a9d12c84 button.colab-df-convert');\n",
              "        buttonEl.style.display =\n",
              "          google.colab.kernel.accessAllowed ? 'block' : 'none';\n",
              "\n",
              "        async function convertToInteractive(key) {\n",
              "          const element = document.querySelector('#df-5335684c-a26c-41e6-97f2-ca05a9d12c84');\n",
              "          const dataTable =\n",
              "            await google.colab.kernel.invokeFunction('convertToInteractive',\n",
              "                                                     [key], {});\n",
              "          if (!dataTable) return;\n",
              "\n",
              "          const docLinkHtml = 'Like what you see? Visit the ' +\n",
              "            '<a target=\"_blank\" href=https://colab.research.google.com/notebooks/data_table.ipynb>data table notebook</a>'\n",
              "            + ' to learn more about interactive tables.';\n",
              "          element.innerHTML = '';\n",
              "          dataTable['output_type'] = 'display_data';\n",
              "          await google.colab.output.renderOutput(dataTable, element);\n",
              "          const docLink = document.createElement('div');\n",
              "          docLink.innerHTML = docLinkHtml;\n",
              "          element.appendChild(docLink);\n",
              "        }\n",
              "      </script>\n",
              "    </div>\n",
              "  </div>\n",
              "  "
            ],
            "text/plain": [
              "        Diabetes_012  CholCheck  Smoker  ...  NoDocbcCost  MentHlth  Sex\n",
              "194346           0.0        1.0     0.0  ...          0.0       0.0  0.0\n",
              "31209            0.0        1.0     1.0  ...          0.0       0.0  0.0\n",
              "70445            1.0        1.0     1.0  ...          1.0       0.0  1.0\n",
              "241720           0.0        1.0     0.0  ...          0.0       0.0  1.0\n",
              "250993           0.0        1.0     0.0  ...          0.0      30.0  0.0\n",
              "\n",
              "[5 rows x 10 columns]"
            ]
          },
          "metadata": {},
          "execution_count": 6
        }
      ]
    },
    {
      "cell_type": "code",
      "source": [
        "print(\"Number of null values for every feature and the target\")\n",
        "print(data.isnull().sum())\n",
        "print(\"\\nNumber of N/A values for every feature and the target\")\n",
        "data.isna().sum()"
      ],
      "metadata": {
        "id": "NbOFum76yWMn"
      },
      "execution_count": null,
      "outputs": []
    },
    {
      "cell_type": "code",
      "source": [
        "data2 = pd.DataFrame(data['Diabetes_012'], data['BMI'])"
      ],
      "metadata": {
        "id": "Z6TzF_HO73NE"
      },
      "execution_count": 5,
      "outputs": []
    },
    {
      "cell_type": "code",
      "source": [
        "plot = data.plot.scatter(x='BMI', y='Diabetes_012', c='DarkBlue')"
      ],
      "metadata": {
        "colab": {
          "base_uri": "https://localhost:8080/",
          "height": 279
        },
        "id": "0ZTKKCR07X_H",
        "outputId": "48864070-a5ea-49a1-bb35-ac3ea053069f"
      },
      "execution_count": 11,
      "outputs": [
        {
          "output_type": "display_data",
          "data": {
            "image/png": "[encoded data removed]",
            "text/plain": [
              "<Figure size 432x288 with 1 Axes>"
            ]
          },
          "metadata": {
            "needs_background": "light"
          }
        }
      ]
    },
    {
      "cell_type": "code",
      "source": [
        "data.hist(figsize=(20,20))"
      ],
      "metadata": {
        "colab": {
          "base_uri": "https://localhost:8080/",
          "height": 1000
        },
        "id": "8iaS-VFMyZR4",
        "outputId": "087a3b6f-7e66-48e8-dbc3-3e02668b0e91"
      },
      "execution_count": 4,
      "outputs": [
        {
          "output_type": "execute_result",
          "data": {
            "text/plain": [
              "array([[<matplotlib.axes._subplots.AxesSubplot object at 0x7fda765e4950>,\n",
              "        <matplotlib.axes._subplots.AxesSubplot object at 0x7fda75e36890>,\n",
              "        <matplotlib.axes._subplots.AxesSubplot object at 0x7fda75defe90>,\n",
              "        <matplotlib.axes._subplots.AxesSubplot object at 0x7fda75db24d0>,\n",
              "        <matplotlib.axes._subplots.AxesSubplot object at 0x7fda75d73d10>],\n",
              "       [<matplotlib.axes._subplots.AxesSubplot object at 0x7fda75d34510>,\n",
              "        <matplotlib.axes._subplots.AxesSubplot object at 0x7fda75ce9a50>,\n",
              "        <matplotlib.axes._subplots.AxesSubplot object at 0x7fda75c9fed0>,\n",
              "        <matplotlib.axes._subplots.AxesSubplot object at 0x7fda75c9ff10>,\n",
              "        <matplotlib.axes._subplots.AxesSubplot object at 0x7fda75c60650>],\n",
              "       [<matplotlib.axes._subplots.AxesSubplot object at 0x7fda75c59190>,\n",
              "        <matplotlib.axes._subplots.AxesSubplot object at 0x7fda75c0c790>,\n",
              "        <matplotlib.axes._subplots.AxesSubplot object at 0x7fda75bc6d90>,\n",
              "        <matplotlib.axes._subplots.AxesSubplot object at 0x7fda75b883d0>,\n",
              "        <matplotlib.axes._subplots.AxesSubplot object at 0x7fda75b3e9d0>],\n",
              "       [<matplotlib.axes._subplots.AxesSubplot object at 0x7fda75ae8b10>,\n",
              "        <matplotlib.axes._subplots.AxesSubplot object at 0x7fda75ab6610>,\n",
              "        <matplotlib.axes._subplots.AxesSubplot object at 0x7fda75a69c10>,\n",
              "        <matplotlib.axes._subplots.AxesSubplot object at 0x7fda75a2b250>,\n",
              "        <matplotlib.axes._subplots.AxesSubplot object at 0x7fda759e3850>],\n",
              "       [<matplotlib.axes._subplots.AxesSubplot object at 0x7fda75a19e50>,\n",
              "        <matplotlib.axes._subplots.AxesSubplot object at 0x7fda759db490>,\n",
              "        <matplotlib.axes._subplots.AxesSubplot object at 0x7fda75991a90>,\n",
              "        <matplotlib.axes._subplots.AxesSubplot object at 0x7fda759530d0>,\n",
              "        <matplotlib.axes._subplots.AxesSubplot object at 0x7fda759096d0>]],\n",
              "      dtype=object)"
            ]
          },
          "metadata": {},
          "execution_count": 4
        },
        {
          "output_type": "display_data",
          "data": {
            "image/png": "[encoded data removed]",
            "text/plain": [
              "<Figure size 1440x1440 with 25 Axes>"
            ]
          },
          "metadata": {
            "needs_background": "light"
          }
        }
      ]
    },
    {
      "cell_type": "code",
      "source": [
        "print(\"Sets of all the values for every feature\")\n",
        "\n",
        "for column in list(data.columns):\n",
        "  print(column,\": \",set(data[column].values))             #check for outliers"
      ],
      "metadata": {
        "id": "pISCg-SoyfHC"
      },
      "execution_count": null,
      "outputs": []
    },
    {
      "cell_type": "code",
      "source": [
        "print(\"Correlation matrix\\n\")\n",
        "corr_mx = data.corr() # uses pearson correlation coeff by default\n",
        "\n",
        "for idx in range(corr_mx.shape[0]):\n",
        "    corr_mx.iloc[idx, idx] = 0\n",
        "\n",
        "sns.set(rc={'figure.figsize':(20,15)})\n",
        "sns.heatmap(corr_mx, annot=True)\n",
        "plt.show()"
      ],
      "metadata": {
        "id": "yAtBDxx6ywxQ"
      },
      "execution_count": null,
      "outputs": []
    },
    {
      "cell_type": "code",
      "source": [
        "corr_mx.max()"
      ],
      "metadata": {
        "id": "25CBtOoZZQYw"
      },
      "execution_count": null,
      "outputs": []
    },
    {
      "cell_type": "markdown",
      "source": [
        "**2*) Run only when polynomial features are involved**"
      ],
      "metadata": {
        "id": "RW-XaZ945lpn"
      }
    },
    {
      "cell_type": "code",
      "execution_count": 22,
      "metadata": {
        "colab": {
          "base_uri": "https://localhost:8080/"
        },
        "id": "dnNgQC767oZ-",
        "outputId": "74c7919e-793b-4150-8f51-e5deabf61110"
      },
      "outputs": [
        {
          "output_type": "execute_result",
          "data": {
            "text/plain": [
              "39168     4.0\n",
              "42472     9.0\n",
              "223795    4.0\n",
              "12673     4.0\n",
              "230665    0.0\n",
              "         ... \n",
              "157607    0.0\n",
              "109019    0.0\n",
              "56553     0.0\n",
              "190460    0.0\n",
              "22222     0.0\n",
              "Name: HighBP^2.5*GenHlth^2.0, Length: 253680, dtype: float64"
            ]
          },
          "metadata": {},
          "execution_count": 22
        }
      ],
      "source": [
        "additional_features = poly_corr[poly_corr['corr'].abs()>0.34]['Polynomial features'].values\n",
        "for ftr in additional_features:\n",
        "  el = ftr.split()\n",
        "  data[\"\".join(el)] = (data[el[0]]**(float(el[2]))) * (data[el[4]]**(float(el[-1])))\n",
        "\n",
        "#remove polynomial features with relatively high skewness\n",
        "data.pop('HighBP^0.5*GenHlth^2.0')\n",
        "data.pop('HighBP^1.0*GenHlth^2.0')\n",
        "data.pop('HighBP^1.5*GenHlth^2.0')\n",
        "data.pop('HighBP^2.0*GenHlth^2.0')\n",
        "data.pop('HighBP^2.5*GenHlth^2.0')"
      ]
    },
    {
      "cell_type": "code",
      "execution_count": null,
      "metadata": {
        "id": "WnY-6iie8dAT"
      },
      "outputs": [],
      "source": [
        ""
      ]
    },
    {
      "cell_type": "code",
      "execution_count": 5,
      "metadata": {
        "colab": {
          "base_uri": "https://localhost:8080/"
        },
        "id": "WT2dIqXV_Ppd",
        "outputId": "2a1b2eb8-61c3-4540-f4a4-95727f4979ae"
      },
      "outputs": [
        {
          "output_type": "execute_result",
          "data": {
            "text/plain": [
              "(253680, 21)"
            ]
          },
          "metadata": {},
          "execution_count": 5
        }
      ],
      "source": [
        "X.shape"
      ]
    },
    {
      "cell_type": "markdown",
      "source": [
        "**3) Train/Test split**"
      ],
      "metadata": {
        "id": "uJN_K7Ue2_po"
      }
    },
    {
      "cell_type": "code",
      "execution_count": 23,
      "metadata": {
        "colab": {
          "base_uri": "https://localhost:8080/"
        },
        "id": "omHfLrPU4uOO",
        "outputId": "e00f8567-be19-44cb-88e1-6eb20f89afbf"
      },
      "outputs": [
        {
          "output_type": "stream",
          "name": "stdout",
          "text": [
            "(202944, 30)\n",
            "(202944,)\n",
            "(50736, 30)\n",
            "(50736,)\n"
          ]
        }
      ],
      "source": [
        "X = data.copy()\n",
        "Y = X.pop('Diabetes_012')\n",
        "X_train, X_test, Y_train, Y_test = train_test_split( X, Y, test_size=0.2, random_state=20)\n",
        "\n",
        "print(X_train.shape)\n",
        "print(Y_train.shape)\n",
        "print(X_test.shape)\n",
        "print(Y_test.shape)"
      ]
    },
    {
      "cell_type": "code",
      "execution_count": null,
      "metadata": {
        "colab": {
          "base_uri": "https://localhost:8080/"
        },
        "id": "PH8vpVMgva1p",
        "outputId": "b44991a4-6e31-4d7e-cbca-ebdc95b3bf95"
      },
      "outputs": [
        {
          "output_type": "stream",
          "name": "stdout",
          "text": [
            "Index(['HighBP', 'HighChol', 'CholCheck', 'Smoker', 'Stroke',\n",
            "       'HeartDiseaseorAttack', 'PhysActivity', 'Fruits', 'Veggies',\n",
            "       'HvyAlcoholConsump', 'AnyHealthcare', 'NoDocbcCost', 'GenHlth',\n",
            "       'MentHlth', 'PhysHlth', 'DiffWalk', 'Sex', 'Age', 'Education', 'Income',\n",
            "       'BMI^0.5*GenHlth^0.5', 'HighBP^0.5*GenHlth^1.5', 'BMI^1.0*GenHlth^1.0',\n",
            "       'HighBP^1.0*GenHlth^1.5', 'BMI^1.0*GenHlth^1.5', 'BMI^1.0*GenHlth^2.0',\n",
            "       'HighBP^1.5*GenHlth^1.5', 'HighBP^2.0*GenHlth^1.5',\n",
            "       'HighBP^2.5*GenHlth^1.5'],\n",
            "      dtype='object')\n"
          ]
        }
      ],
      "source": [
        "print(X_train.columns)"
      ]
    },
    {
      "cell_type": "markdown",
      "metadata": {
        "id": "EpoUhUn3y_ay"
      },
      "source": [
        "**4*) (Run only for input that include skewness adjustment) Adjust skewed data**\n",
        "(train set)"
      ]
    },
    {
      "cell_type": "markdown",
      "source": [
        "So in skewed data, the tail region may act as an outlier for the statistical model and we know that outliers adversely affect the model’s performance especially regression-based models."
      ],
      "metadata": {
        "id": "e6N2a5uNUxR9"
      }
    },
    {
      "cell_type": "code",
      "execution_count": null,
      "metadata": {
        "id": "_oRBzVNW4uJr"
      },
      "outputs": [],
      "source": [
        "#skew =0(no skew) >0(right skew) <0(left skew)\n",
        "\n",
        "\n",
        "#For right skewed data apply log(1+x)\n",
        "log_columns = X_train.skew().sort_values(ascending=False)\n",
        "log_columns = log_columns.loc[log_columns>0.75]\n",
        "right_skewed = list(log_columns.index)\n",
        "print(\"\\nRight skewed features:\")\n",
        "print(log_columns)\n",
        "for col in log_columns.index:\n",
        "    X_train[col] = np.log1p(X_train[col])\n",
        "\n",
        "#For left  skewed data apply x^3\n",
        "left_skew = X_train.skew().sort_values(ascending=False)\n",
        "left_skew = left_skew.loc[left_skew<-0.75]\n",
        "print(\"\\nLeft skewed features:\")\n",
        "print(left_skew)\n",
        "for col in left_skew.index:\n",
        "    X_train[col] = X_train[col].pow(3)\n",
        "\n",
        "\n",
        "#Data after adjusting the skewness   \n",
        "print(\"\\n\",X_train.skew().sort_values(ascending=False))"
      ]
    },
    {
      "cell_type": "markdown",
      "metadata": {
        "id": "1WzG0v_PdC35"
      },
      "source": [
        "**4*)Adjust skewed data** (test set)"
      ]
    },
    {
      "cell_type": "code",
      "execution_count": null,
      "metadata": {
        "id": "kj-fjm634uF4"
      },
      "outputs": [],
      "source": [
        "log_columns = X_test.skew().sort_values(ascending=False)\n",
        "log_columns = log_columns.loc[log_columns>0.75]\n",
        "right_skewed = list(log_columns.index)\n",
        "for col in log_columns.index:\n",
        "    X_test[col] = np.log1p(X_test[col])\n",
        "\n",
        "left_skew = X_test.skew().sort_values(ascending=False)\n",
        "left_skew = left_skew.loc[left_skew<-0.75]\n",
        "for col in left_skew.index:\n",
        "    X_test[col] = X_test[col].pow(3)\n",
        "\n",
        "print(X_test.skew().sort_values(ascending=False))"
      ]
    },
    {
      "cell_type": "markdown",
      "metadata": {
        "id": "zJCpWrDW7ZBL"
      },
      "source": [
        "**5) Scale data** (min-max scaler)"
      ]
    },
    {
      "cell_type": "markdown",
      "source": [
        "\n",
        "\n",
        "*   (x-min)/(max-min)\n",
        "*   standardization uses mean 0 and std=1\n",
        "\n"
      ],
      "metadata": {
        "id": "I43R3dRobX39"
      }
    },
    {
      "cell_type": "code",
      "execution_count": 26,
      "metadata": {
        "id": "-wkwezLB4uCN"
      },
      "outputs": [],
      "source": [
        "from sklearn.preprocessing import MinMaxScaler\n",
        "mm_scaler = MinMaxScaler()\n",
        "\n",
        "for col in X_train.columns:\n",
        "  X_train[col] = mm_scaler.fit_transform(X_train[[col]])\n",
        "\n",
        "for col in X_test.columns:\n",
        "  X_test[col] = mm_scaler.fit_transform(X_test[[col]])"
      ]
    },
    {
      "cell_type": "code",
      "execution_count": null,
      "metadata": {
        "id": "kDQ3cXb87dz1",
        "colab": {
          "base_uri": "https://localhost:8080/",
          "height": 707
        },
        "outputId": "1d8164e7-a3a3-4c83-a458-b158f049b99d"
      },
      "outputs": [
        {
          "output_type": "execute_result",
          "data": {
            "text/html": [
              "\n",
              "  <div id=\"df-ec54ea93-cb3e-4e63-b9fa-0a12ac0e82e2\">\n",
              "    <div class=\"colab-df-container\">\n",
              "      <div>\n",
              "<style scoped>\n",
              "    .dataframe tbody tr th:only-of-type {\n",
              "        vertical-align: middle;\n",
              "    }\n",
              "\n",
              "    .dataframe tbody tr th {\n",
              "        vertical-align: top;\n",
              "    }\n",
              "\n",
              "    .dataframe thead th {\n",
              "        text-align: right;\n",
              "    }\n",
              "</style>\n",
              "<table border=\"1\" class=\"dataframe\">\n",
              "  <thead>\n",
              "    <tr style=\"text-align: right;\">\n",
              "      <th></th>\n",
              "      <th>model</th>\n",
              "      <th>var</th>\n",
              "    </tr>\n",
              "    <tr>\n",
              "      <th>n</th>\n",
              "      <th></th>\n",
              "      <th></th>\n",
              "    </tr>\n",
              "  </thead>\n",
              "  <tbody>\n",
              "    <tr>\n",
              "      <th>1</th>\n",
              "      <td>PCA(n_components=1)</td>\n",
              "      <td>0.308341</td>\n",
              "    </tr>\n",
              "    <tr>\n",
              "      <th>2</th>\n",
              "      <td>PCA(n_components=2)</td>\n",
              "      <td>0.407387</td>\n",
              "    </tr>\n",
              "    <tr>\n",
              "      <th>3</th>\n",
              "      <td>PCA(n_components=3)</td>\n",
              "      <td>0.491617</td>\n",
              "    </tr>\n",
              "    <tr>\n",
              "      <th>4</th>\n",
              "      <td>PCA(n_components=4)</td>\n",
              "      <td>0.561873</td>\n",
              "    </tr>\n",
              "    <tr>\n",
              "      <th>5</th>\n",
              "      <td>PCA(n_components=5)</td>\n",
              "      <td>0.624861</td>\n",
              "    </tr>\n",
              "    <tr>\n",
              "      <th>6</th>\n",
              "      <td>PCA(n_components=6)</td>\n",
              "      <td>0.681543</td>\n",
              "    </tr>\n",
              "    <tr>\n",
              "      <th>7</th>\n",
              "      <td>PCA(n_components=7)</td>\n",
              "      <td>0.725908</td>\n",
              "    </tr>\n",
              "    <tr>\n",
              "      <th>8</th>\n",
              "      <td>PCA(n_components=8)</td>\n",
              "      <td>0.767064</td>\n",
              "    </tr>\n",
              "    <tr>\n",
              "      <th>9</th>\n",
              "      <td>PCA(n_components=9)</td>\n",
              "      <td>0.802202</td>\n",
              "    </tr>\n",
              "    <tr>\n",
              "      <th>10</th>\n",
              "      <td>PCA(n_components=10)</td>\n",
              "      <td>0.831928</td>\n",
              "    </tr>\n",
              "    <tr>\n",
              "      <th>11</th>\n",
              "      <td>PCA(n_components=11)</td>\n",
              "      <td>0.856371</td>\n",
              "    </tr>\n",
              "    <tr>\n",
              "      <th>12</th>\n",
              "      <td>PCA(n_components=12)</td>\n",
              "      <td>0.878253</td>\n",
              "    </tr>\n",
              "    <tr>\n",
              "      <th>13</th>\n",
              "      <td>PCA(n_components=13)</td>\n",
              "      <td>0.89851</td>\n",
              "    </tr>\n",
              "    <tr>\n",
              "      <th>14</th>\n",
              "      <td>PCA(n_components=14)</td>\n",
              "      <td>0.916597</td>\n",
              "    </tr>\n",
              "    <tr>\n",
              "      <th>15</th>\n",
              "      <td>PCA(n_components=15)</td>\n",
              "      <td>0.933802</td>\n",
              "    </tr>\n",
              "    <tr>\n",
              "      <th>16</th>\n",
              "      <td>PCA(n_components=16)</td>\n",
              "      <td>0.948994</td>\n",
              "    </tr>\n",
              "    <tr>\n",
              "      <th>17</th>\n",
              "      <td>PCA(n_components=17)</td>\n",
              "      <td>0.962227</td>\n",
              "    </tr>\n",
              "    <tr>\n",
              "      <th>18</th>\n",
              "      <td>PCA(n_components=18)</td>\n",
              "      <td>0.973756</td>\n",
              "    </tr>\n",
              "    <tr>\n",
              "      <th>19</th>\n",
              "      <td>PCA(n_components=19)</td>\n",
              "      <td>0.9842</td>\n",
              "    </tr>\n",
              "    <tr>\n",
              "      <th>20</th>\n",
              "      <td>PCA(n_components=20)</td>\n",
              "      <td>0.994208</td>\n",
              "    </tr>\n",
              "  </tbody>\n",
              "</table>\n",
              "</div>\n",
              "      <button class=\"colab-df-convert\" onclick=\"convertToInteractive('df-ec54ea93-cb3e-4e63-b9fa-0a12ac0e82e2')\"\n",
              "              title=\"Convert this dataframe to an interactive table.\"\n",
              "              style=\"display:none;\">\n",
              "        \n",
              "  <svg xmlns=\"http://www.w3.org/2000/svg\" height=\"24px\"viewBox=\"0 0 24 24\"\n",
              "       width=\"24px\">\n",
              "    <path d=\"M0 0h24v24H0V0z\" fill=\"none\"/>\n",
              "    <path d=\"M18.56 5.44l.94 2.06.94-2.06 2.06-.94-2.06-.94-.94-2.06-.94 2.06-2.06.94zm-11 1L8.5 8.5l.94-2.06 2.06-.94-2.06-.94L8.5 2.5l-.94 2.06-2.06.94zm10 10l.94 2.06.94-2.06 2.06-.94-2.06-.94-.94-2.06-.94 2.06-2.06.94z\"/><path d=\"M17.41 7.96l-1.37-1.37c-.4-.4-.92-.59-1.43-.59-.52 0-1.04.2-1.43.59L10.3 9.45l-7.72 7.72c-.78.78-.78 2.05 0 2.83L4 21.41c.39.39.9.59 1.41.59.51 0 1.02-.2 1.41-.59l7.78-7.78 2.81-2.81c.8-.78.8-2.07 0-2.86zM5.41 20L4 18.59l7.72-7.72 1.47 1.35L5.41 20z\"/>\n",
              "  </svg>\n",
              "      </button>\n",
              "      \n",
              "  <style>\n",
              "    .colab-df-container {\n",
              "      display:flex;\n",
              "      flex-wrap:wrap;\n",
              "      gap: 12px;\n",
              "    }\n",
              "\n",
              "    .colab-df-convert {\n",
              "      background-color: #E8F0FE;\n",
              "      border: none;\n",
              "      border-radius: 50%;\n",
              "      cursor: pointer;\n",
              "      display: none;\n",
              "      fill: #1967D2;\n",
              "      height: 32px;\n",
              "      padding: 0 0 0 0;\n",
              "      width: 32px;\n",
              "    }\n",
              "\n",
              "    .colab-df-convert:hover {\n",
              "      background-color: #E2EBFA;\n",
              "      box-shadow: 0px 1px 2px rgba(60, 64, 67, 0.3), 0px 1px 3px 1px rgba(60, 64, 67, 0.15);\n",
              "      fill: #174EA6;\n",
              "    }\n",
              "\n",
              "    [theme=dark] .colab-df-convert {\n",
              "      background-color: #3B4455;\n",
              "      fill: #D2E3FC;\n",
              "    }\n",
              "\n",
              "    [theme=dark] .colab-df-convert:hover {\n",
              "      background-color: #434B5C;\n",
              "      box-shadow: 0px 1px 3px 1px rgba(0, 0, 0, 0.15);\n",
              "      filter: drop-shadow(0px 1px 2px rgba(0, 0, 0, 0.3));\n",
              "      fill: #FFFFFF;\n",
              "    }\n",
              "  </style>\n",
              "\n",
              "      <script>\n",
              "        const buttonEl =\n",
              "          document.querySelector('#df-ec54ea93-cb3e-4e63-b9fa-0a12ac0e82e2 button.colab-df-convert');\n",
              "        buttonEl.style.display =\n",
              "          google.colab.kernel.accessAllowed ? 'block' : 'none';\n",
              "\n",
              "        async function convertToInteractive(key) {\n",
              "          const element = document.querySelector('#df-ec54ea93-cb3e-4e63-b9fa-0a12ac0e82e2');\n",
              "          const dataTable =\n",
              "            await google.colab.kernel.invokeFunction('convertToInteractive',\n",
              "                                                     [key], {});\n",
              "          if (!dataTable) return;\n",
              "\n",
              "          const docLinkHtml = 'Like what you see? Visit the ' +\n",
              "            '<a target=\"_blank\" href=https://colab.research.google.com/notebooks/data_table.ipynb>data table notebook</a>'\n",
              "            + ' to learn more about interactive tables.';\n",
              "          element.innerHTML = '';\n",
              "          dataTable['output_type'] = 'display_data';\n",
              "          await google.colab.output.renderOutput(dataTable, element);\n",
              "          const docLink = document.createElement('div');\n",
              "          docLink.innerHTML = docLinkHtml;\n",
              "          element.appendChild(docLink);\n",
              "        }\n",
              "      </script>\n",
              "    </div>\n",
              "  </div>\n",
              "  "
            ],
            "text/plain": [
              "                   model       var\n",
              "n                                 \n",
              "1    PCA(n_components=1)  0.308341\n",
              "2    PCA(n_components=2)  0.407387\n",
              "3    PCA(n_components=3)  0.491617\n",
              "4    PCA(n_components=4)  0.561873\n",
              "5    PCA(n_components=5)  0.624861\n",
              "6    PCA(n_components=6)  0.681543\n",
              "7    PCA(n_components=7)  0.725908\n",
              "8    PCA(n_components=8)  0.767064\n",
              "9    PCA(n_components=9)  0.802202\n",
              "10  PCA(n_components=10)  0.831928\n",
              "11  PCA(n_components=11)  0.856371\n",
              "12  PCA(n_components=12)  0.878253\n",
              "13  PCA(n_components=13)   0.89851\n",
              "14  PCA(n_components=14)  0.916597\n",
              "15  PCA(n_components=15)  0.933802\n",
              "16  PCA(n_components=16)  0.948994\n",
              "17  PCA(n_components=17)  0.962227\n",
              "18  PCA(n_components=18)  0.973756\n",
              "19  PCA(n_components=19)    0.9842\n",
              "20  PCA(n_components=20)  0.994208"
            ]
          },
          "metadata": {},
          "execution_count": 54
        }
      ],
      "source": [
        "from sklearn.decomposition import PCA\n",
        "\n",
        "pca_list = list()\n",
        "feature_weight_list = list()\n",
        "\n",
        "for n in range(1,21):\n",
        "    #create and fit the model\n",
        "    PCAmod = PCA(n_components = n)\n",
        "    PCAmod.fit(X_train)\n",
        "    \n",
        "    #Store the model and variance\n",
        "    pca_list.append(pd.Series({'n':n, 'model':PCAmod, 'var':PCAmod.explained_variance_ratio_.sum()}))\n",
        "    \n",
        "    #Calculate and store feature importances\n",
        "    weights = PCAmod.explained_variance_ratio_.reshape(-1,1)/PCAmod.explained_variance_ratio_.sum() #add more weight to the most important PCs\n",
        "    overall_contribution = np.abs(PCAmod.components_)*weights\n",
        "    abs_feature_values = overall_contribution.sum(axis=0) # how every feature with their weightings comprise the PCs \n",
        "    feature_weight_list.append(pd.DataFrame({'n':n, 'features':X_train.columns, 'values':abs_feature_values/abs_feature_values.sum()}))\n",
        "\n",
        "pca_df = pd.concat(pca_list, axis=1).T.set_index('n')\n",
        "pca_df"
      ]
    },
    {
      "cell_type": "markdown",
      "metadata": {
        "id": "7Nm1ER4q7bpM"
      },
      "source": [
        "**6*)(Run only for input consisting in principal components) PCA**"
      ]
    },
    {
      "cell_type": "code",
      "execution_count": null,
      "metadata": {
        "id": "yidTMmUj4t-V"
      },
      "outputs": [],
      "source": [
        "from sklearn.decomposition import PCA\n",
        "\n",
        "#chose the smallest number of components that explain at least 90% of variance\n",
        "\n",
        "#fit and transform data for the training set\n",
        "pca = PCA(n_components = 14)\n",
        "pca.fit(X_train)\n",
        "X_pca_train=pca.transform(X_train)\n",
        "\n",
        "#transform data for the test set\n",
        "X_pca_test = pca.transform(X_test)\n",
        "\n",
        "X_train=X_pca_train\n",
        "X_test=X_pca_test\n",
        "print(X_train.shape)\n",
        "print(X_test.shape)\n",
        "print(Y_train.shape)\n",
        "print(Y_test.shape)"
      ]
    },
    {
      "cell_type": "markdown",
      "metadata": {
        "id": "Ila2_pH2YbO0"
      },
      "source": [
        "**Grid search for hyperparam tuning**"
      ]
    },
    {
      "cell_type": "code",
      "execution_count": null,
      "metadata": {
        "id": "Wq75BwYT4t4j"
      },
      "outputs": [],
      "source": [
        "from sklearn.model_selection import GridSearchCV\n",
        "from sklearn import svm\n",
        "from sklearn.metrics import mean_absolute_error as mae\n",
        "from sklearn.metrics import classification_report\n",
        "\n",
        "clf = svm.SVC(class_weight='balanced')\n",
        "# defining parameter range\n",
        "param_grid = {'C': [0.1],#, 1],#, 5, 10, 16],#, 100, 1000],\n",
        "              'gamma': [ 0.1, 0.2, 0.3, 0.4, 0.5 ,0.6 ,0.7, 0.8, 0.9 ,1],#, 0.01],#, 0.001],# 0.0001],\n",
        "              'kernel': ['poly'],#, 'rbf'],#, 'sigmoid']}\n",
        "              'degree': [3,4,5]}\n",
        " \n",
        "grid = GridSearchCV(clf, param_grid, refit = True, verbose = 3)\n",
        " \n",
        "# fitting the model for grid search\n",
        "grid.fit(X_pca_train, Y_train)"
      ]
    },
    {
      "cell_type": "code",
      "execution_count": null,
      "metadata": {
        "colab": {
          "base_uri": "https://localhost:8080/"
        },
        "id": "M0pfDiKsUx-d",
        "outputId": "cb1746c0-a5cd-4e6a-aa06-c2c4f0bd4ccb"
      },
      "outputs": [
        {
          "output_type": "stream",
          "name": "stdout",
          "text": [
            "{'C': 0.1, 'degree': 4, 'gamma': 0.1, 'kernel': 'poly'}\n",
            "SVC(C=0.1, class_weight='balanced', degree=4, gamma=0.1, kernel='poly')\n"
          ]
        }
      ],
      "source": [
        "# print best parameter after tuning\n",
        "print(grid.best_params_)\n",
        " \n",
        "# print how our model looks after hyper-parameter tuning\n",
        "print(grid.best_estimator_)"
      ]
    },
    {
      "cell_type": "code",
      "source": [
        "from sklearn.ensemble import BaggingClassifier\n",
        "from sklearn import svm\n",
        "\n",
        "#clf = BaggingClassifier(base_estimator=svm.SVC(C=0.1, kernel = 'poly', gamma = 0.2, degree = 3, class_weight='balanced'), n_estimators=20, max_samples=0.1, bootstrap=False, random_state=104, verbose = 10).fit(X_pca_train,Y_train)\n",
        "#prediction = clf.predict(X_pca_test)\n",
        "\n",
        "clf = BaggingClassifier(base_estimator=svm.SVC(C=0.1, kernel = 'poly', gamma = 0.2, degree = 3, class_weight='balanced'), n_estimators=20, max_samples=0.1, bootstrap=False, random_state=104, verbose = 10).fit(X_train,Y_train)\n",
        "prediction = clf.predict(X_test)\n"
      ],
      "metadata": {
        "id": "YzYZVlt8rPwX",
        "colab": {
          "base_uri": "https://localhost:8080/"
        },
        "outputId": "9545205f-ee58-4551-a698-52a05d0c48e0"
      },
      "execution_count": null,
      "outputs": [
        {
          "output_type": "stream",
          "name": "stderr",
          "text": [
            "[Parallel(n_jobs=1)]: Using backend SequentialBackend with 1 concurrent workers.\n"
          ]
        },
        {
          "output_type": "stream",
          "name": "stdout",
          "text": [
            "Building estimator 1 of 20 for this parallel run (total 20)...\n"
          ]
        }
      ]
    },
    {
      "cell_type": "markdown",
      "metadata": {
        "id": "vw_p3JXrYkoQ"
      },
      "source": [
        "**Results**"
      ]
    },
    {
      "cell_type": "code",
      "execution_count": null,
      "metadata": {
        "id": "BYV8CU4FmlCi"
      },
      "outputs": [],
      "source": [
        "from sklearn.metrics import mean_absolute_error, mean_squared_error, matthews_corrcoef, accuracy_score, f1_score\n",
        "from sklearn.metrics import classification_report\n",
        "import mlflow\n",
        "\n",
        "def custom_logging(y_true, y_pred, verbose = 1):\n",
        "    mcc = matthews_corrcoef(y_true = y_true, y_pred = y_pred)\n",
        "    mse = mean_squared_error(y_true = y_true, y_pred = y_pred)\n",
        "    mae = mean_absolute_error(y_true = y_true, y_pred = y_pred)\n",
        "    acc = accuracy_score(y_true = y_true, y_pred = y_pred)\n",
        "    f1 = f1_score(y_true = y_true, y_pred = y_pred, average='weighted')\n",
        "\n",
        "    mlflow.log_metric(key = 'acc_', value = acc)\n",
        "    mlflow.log_metric(key = 'mae_', value = mae)\n",
        "    mlflow.log_metric(key = 'mse_', value = mse)\n",
        "    mlflow.log_metric(key = 'f1_', value = f1)\n",
        "    mlflow.log_metric(key = 'mcc_', value = mcc)\n",
        "\n",
        "    if verbose:\n",
        "        print(classification_report(y_true, y_pred, target_names=['0', '1', '2']))\n",
        "        print(f\"MAE: \\t{mae}\")\n",
        "        print(f\"MSE: \\t{mse}\")\n",
        "        print(f\"ACC: \\t{acc}\")\n",
        "        print(f\"MCC: \\t{mcc}\")\n",
        "        svm_train_mcc = matthews_corrcoef(y_true, y_pred)\n",
        "        svm_train_accuracy = accuracy_score(y_true, y_pred)\n",
        "        svm_train_f1_score=f1_score(y_true, y_pred, average='weighted')\n",
        "        print(\"F1-Score: \",svm_train_f1_score*100)\n",
        "        print(\"Accuracy Score: \",svm_train_accuracy*100)"
      ]
    },
    {
      "cell_type": "code",
      "source": [
        "from sklearn.metrics import confusion_matrix\n",
        "\n",
        "cm=confusion_matrix(Y_test,prediction)\n",
        "\n",
        "plt.figure(figsize=(5,3.5))\n",
        "sns.heatmap(cm, annot=True, fmt='g')\n",
        "plt.xlabel('Predicted')\n",
        "plt.ylabel('Truth')"
      ],
      "metadata": {
        "id": "QCOG53YHnUrS",
        "colab": {
          "base_uri": "https://localhost:8080/",
          "height": 465
        },
        "outputId": "0d72009f-2536-4de4-d81a-30998d752c87"
      },
      "execution_count": null,
      "outputs": [
        {
          "output_type": "execute_result",
          "data": {
            "text/plain": [
              "Text(66.5, 0.5, 'Truth')"
            ]
          },
          "metadata": {},
          "execution_count": 81
        },
        {
          "output_type": "display_data",
          "data": {
            "image/png": "[encoded data removed]",
            "text/plain": [
              "<Figure size 720x504 with 2 Axes>"
            ]
          },
          "metadata": {}
        }
      ]
    },
    {
      "cell_type": "code",
      "source": [
        "X_train.shape"
      ],
      "metadata": {
        "colab": {
          "base_uri": "https://localhost:8080/"
        },
        "id": "w-sGYBc5Fa3X",
        "outputId": "6cf08466-1b56-4c29-ff1c-b70edcf41c08"
      },
      "execution_count": 10,
      "outputs": [
        {
          "output_type": "execute_result",
          "data": {
            "text/plain": [
              "(20294, 9)"
            ]
          },
          "metadata": {},
          "execution_count": 10
        }
      ]
    },
    {
      "cell_type": "markdown",
      "source": [
        "**7) Results for:**\n",
        "\n",
        "    "
      ],
      "metadata": {
        "id": "UCciTDpi5Zhu"
      }
    },
    {
      "cell_type": "code",
      "source": [
        "from sklearn import svm\n",
        "clf = svm.SVC(C=0.1, kernel = 'poly', gamma = 0.2, degree = 3, class_weight='balanced')\n",
        "clf.fit(X_train,Y_train)\n",
        "prediction = clf.predict(X_test)\n"
      ],
      "metadata": {
        "id": "OaOCpu9ODC5F"
      },
      "execution_count": null,
      "outputs": []
    },
    {
      "cell_type": "markdown",
      "source": [
        "kernel='poly' and class_weight='balanced' are constant"
      ],
      "metadata": {
        "id": "_yIFkq8G6flV"
      }
    },
    {
      "cell_type": "markdown",
      "source": [
        "a) base features **1,3,5**\n",
        "\n",
        "*   C=0.1\n",
        "*   gamma=0.1\n",
        "\n"
      ],
      "metadata": {
        "id": "Wr4BPtJO6RnG"
      }
    },
    {
      "cell_type": "code",
      "source": [
        "custom_logging(Y_test, prediction)\n",
        "cm=confusion_matrix(Y_test,prediction)\n",
        "\n",
        "plt.figure(figsize=(5,3.5))\n",
        "sns.heatmap(cm, annot=True, fmt='g')\n",
        "plt.xlabel('Predicted')\n",
        "plt.ylabel('Truth')"
      ],
      "metadata": {
        "id": "BSC19JhA7KbL"
      },
      "execution_count": null,
      "outputs": []
    },
    {
      "cell_type": "markdown",
      "source": [
        "b) base features +skewness **1,3,4,5**\n",
        "\n",
        "*   C=0.1\n",
        "*   gamma=0.1"
      ],
      "metadata": {
        "id": "HZrSjsBP7ORU"
      }
    },
    {
      "cell_type": "code",
      "source": [
        "custom_logging(Y_test, prediction)\n",
        "cm=confusion_matrix(Y_test,prediction)\n",
        "\n",
        "plt.figure(figsize=(5,3.5))\n",
        "sns.heatmap(cm, annot=True, fmt='g')\n",
        "plt.xlabel('Predicted')\n",
        "plt.ylabel('Truth')"
      ],
      "metadata": {
        "id": "3Ai4ZYv_7PGI"
      },
      "execution_count": null,
      "outputs": []
    },
    {
      "cell_type": "markdown",
      "source": [
        "c) base features **1,3,5**\n",
        "\n",
        "*   C=0.1\n",
        "*   gamma=0.2\n",
        "\n"
      ],
      "metadata": {
        "id": "DcNba_ET7R8U"
      }
    },
    {
      "cell_type": "code",
      "source": [
        "custom_logging(Y_test, prediction)\n",
        "cm=confusion_matrix(Y_test,prediction)\n",
        "\n",
        "plt.figure(figsize=(5,3.5))\n",
        "sns.heatmap(cm, annot=True, fmt='g')\n",
        "plt.xlabel('Predicted')\n",
        "plt.ylabel('Truth')"
      ],
      "metadata": {
        "id": "G1NI5HPy6qkE"
      },
      "execution_count": null,
      "outputs": []
    },
    {
      "cell_type": "markdown",
      "source": [
        "d) base features  + skewness **1,3,4,5**\n",
        "\n",
        "*   C=0.1\n",
        "*   gamma=0.2\n",
        "\n"
      ],
      "metadata": {
        "id": "1KyMi4Im6o8x"
      }
    },
    {
      "cell_type": "code",
      "source": [
        "custom_logging(Y_test, prediction)\n",
        "cm=confusion_matrix(Y_test,prediction)\n",
        "\n",
        "plt.figure(figsize=(5,3.5))\n",
        "sns.heatmap(cm, annot=True, fmt='g')\n",
        "plt.xlabel('Predicted')\n",
        "plt.ylabel('Truth')"
      ],
      "metadata": {
        "id": "bVb4wG2M68sB"
      },
      "execution_count": null,
      "outputs": []
    },
    {
      "cell_type": "markdown",
      "source": [
        "e) Base features + poly **1,2,3,5**\n",
        "\n",
        "*   C=0.1\n",
        "*   gamma=0.1"
      ],
      "metadata": {
        "id": "47agneDN60PM"
      }
    },
    {
      "cell_type": "code",
      "source": [
        "custom_logging(Y_test, prediction)\n",
        "cm=confusion_matrix(Y_test,prediction)\n",
        "\n",
        "plt.figure(figsize=(5,3.5))\n",
        "sns.heatmap(cm, annot=True, fmt='g')\n",
        "plt.xlabel('Predicted')\n",
        "plt.ylabel('Truth')"
      ],
      "metadata": {
        "id": "ypkEh4EA67RH"
      },
      "execution_count": null,
      "outputs": []
    },
    {
      "cell_type": "markdown",
      "source": [
        "f) Base features + poly + skewness **1,2,3,4,5**\n",
        "\n",
        "*   C=0.1\n",
        "*   gamma=0.1"
      ],
      "metadata": {
        "id": "7AXfIfkW7hmo"
      }
    },
    {
      "cell_type": "code",
      "source": [
        "custom_logging(Y_test, prediction)\n",
        "cm=confusion_matrix(Y_test,prediction)\n",
        "\n",
        "plt.figure(figsize=(5,3.5))\n",
        "sns.heatmap(cm, annot=True, fmt='g')\n",
        "plt.xlabel('Predicted')\n",
        "plt.ylabel('Truth')"
      ],
      "metadata": {
        "id": "68CAYKR_7-AV"
      },
      "execution_count": null,
      "outputs": []
    },
    {
      "cell_type": "markdown",
      "source": [
        "g) Base features + poly **1,2,3,5**\n",
        "\n",
        "*   C=0.1\n",
        "*   gamma=0.2"
      ],
      "metadata": {
        "id": "PAwKoPGL77yK"
      }
    },
    {
      "cell_type": "code",
      "source": [
        "custom_logging(Y_test, prediction)\n",
        "cm=confusion_matrix(Y_test,prediction)\n",
        "\n",
        "plt.figure(figsize=(5,3.5))\n",
        "sns.heatmap(cm, annot=True, fmt='g')\n",
        "plt.xlabel('Predicted')\n",
        "plt.ylabel('Truth')"
      ],
      "metadata": {
        "id": "zVgZ0XlW8aBs"
      },
      "execution_count": null,
      "outputs": []
    },
    {
      "cell_type": "markdown",
      "source": [
        "h) Base features + poly + skewness **1,2,3,4,5**\n",
        "\n",
        "*   C=0.1\n",
        "*   gamma=0.2"
      ],
      "metadata": {
        "id": "n5329n9h7khP"
      }
    },
    {
      "cell_type": "code",
      "source": [
        "custom_logging(Y_test, prediction)\n",
        "cm=confusion_matrix(Y_test,prediction)\n",
        "\n",
        "plt.figure(figsize=(5,3.5))\n",
        "sns.heatmap(cm, annot=True, fmt='g')\n",
        "plt.xlabel('Predicted')\n",
        "plt.ylabel('Truth')"
      ],
      "metadata": {
        "id": "1UxXeIWi7mbt"
      },
      "execution_count": null,
      "outputs": []
    },
    {
      "cell_type": "markdown",
      "source": [
        "i) Base features + poly + skewness + 2 PCs **1,2,3,4,5,6**\n",
        "\n",
        "*   C=0.1\n",
        "*   gamma=0.1"
      ],
      "metadata": {
        "id": "ljq-uyxG8hgu"
      }
    },
    {
      "cell_type": "code",
      "source": [
        "custom_logging(Y_test, prediction)\n",
        "cm=confusion_matrix(Y_test,prediction)\n",
        "\n",
        "plt.figure(figsize=(5,3.5))\n",
        "sns.heatmap(cm, annot=True, fmt='g')\n",
        "plt.xlabel('Predicted')\n",
        "plt.ylabel('Truth')"
      ],
      "metadata": {
        "id": "vMgU9MzM8pJx"
      },
      "execution_count": null,
      "outputs": []
    },
    {
      "cell_type": "markdown",
      "source": [
        "j) Base features + poly + skewness + 2 PCs **1,2,3,4,5,6**\n",
        "\n",
        "*   C=0.1\n",
        "*   gamma=0.2"
      ],
      "metadata": {
        "id": "F2ai4IRH8rNu"
      }
    },
    {
      "cell_type": "code",
      "source": [
        "custom_logging(Y_test, prediction)\n",
        "cm=confusion_matrix(Y_test,prediction)\n",
        "\n",
        "plt.figure(figsize=(5,3.5))\n",
        "sns.heatmap(cm, annot=True, fmt='g')\n",
        "plt.xlabel('Predicted')\n",
        "plt.ylabel('Truth')"
      ],
      "metadata": {
        "id": "m2jFYAvQ86zL"
      },
      "execution_count": null,
      "outputs": []
    },
    {
      "cell_type": "markdown",
      "source": [
        "k) Base features + poly + skewness + 14 PCs **1,2,3,4,5,6**\n",
        "\n",
        "C=0.1\n",
        "gamma=0.1"
      ],
      "metadata": {
        "id": "LbCvHVyO8-xV"
      }
    },
    {
      "cell_type": "code",
      "source": [
        "custom_logging(Y_test, prediction)\n",
        "cm=confusion_matrix(Y_test,prediction)\n",
        "\n",
        "plt.figure(figsize=(5,3.5))\n",
        "sns.heatmap(cm, annot=True, fmt='g')\n",
        "plt.xlabel('Predicted')\n",
        "plt.ylabel('Truth')"
      ],
      "metadata": {
        "id": "dxHyBxfy9AZa"
      },
      "execution_count": null,
      "outputs": []
    },
    {
      "cell_type": "markdown",
      "source": [
        "l) Base features + poly + skewness + 14 PCs **1,2,3,4,5,6**\n",
        "\n",
        "C=0.1\n",
        "gamma=0.2"
      ],
      "metadata": {
        "id": "8_PfXz6z9CaG"
      }
    },
    {
      "cell_type": "code",
      "source": [
        "custom_logging(Y_test, prediction)\n",
        "cm=confusion_matrix(Y_test,prediction)\n",
        "\n",
        "plt.figure(figsize=(5,3.5))\n",
        "sns.heatmap(cm, annot=True, fmt='g')\n",
        "plt.xlabel('Predicted')\n",
        "plt.ylabel('Truth')"
      ],
      "metadata": {
        "id": "eZexectl9C_e"
      },
      "execution_count": null,
      "outputs": []
    },
    {
      "cell_type": "markdown",
      "source": [
        "## **IGNORE THE CODE BELOW**"
      ],
      "metadata": {
        "id": "hC_n-JO19KUA"
      }
    },
    {
      "cell_type": "code",
      "source": [
        "custom_logging(Y_test, prediction) # C=0.2 polynomial features, adjusted skewness, 14 principal components"
      ],
      "metadata": {
        "id": "AKo3cefp_s51"
      },
      "execution_count": null,
      "outputs": []
    },
    {
      "cell_type": "code",
      "source": [
        "custom_logging(Y_test, prediction) # C=0.2 adjusted skewness for base features"
      ],
      "metadata": {
        "colab": {
          "base_uri": "https://localhost:8080/"
        },
        "id": "-Zr055kNkdwe",
        "outputId": "9f1a346b-aaa5-4d3d-e28a-65cd04386b93"
      },
      "execution_count": null,
      "outputs": [
        {
          "output_type": "stream",
          "name": "stdout",
          "text": [
            "              precision    recall  f1-score   support\n",
            "\n",
            "           0       0.95      0.68      0.79     42744\n",
            "           1       0.03      0.20      0.05       943\n",
            "           2       0.33      0.65      0.44      7049\n",
            "\n",
            "    accuracy                           0.67     50736\n",
            "   macro avg       0.44      0.51      0.43     50736\n",
            "weighted avg       0.84      0.67      0.73     50736\n",
            "\n",
            "MAE: \t0.5370545569221066\n",
            "MSE: \t0.9423683380637023\n",
            "ACC: \t0.6656023336486913\n",
            "MCC: \t0.3040761801466852\n",
            "F1-Score:  72.72802892276066\n",
            "Accuracy Score:  66.56023336486912\n"
          ]
        }
      ]
    },
    {
      "cell_type": "code",
      "source": [
        "custom_logging(Y_test, prediction) # C=0.1 base features"
      ],
      "metadata": {
        "colab": {
          "base_uri": "https://localhost:8080/"
        },
        "id": "58fhOpKcPo_j",
        "outputId": "79bd5647-1a66-4f9a-d4e9-8c517ace893d"
      },
      "execution_count": null,
      "outputs": [
        {
          "output_type": "stream",
          "name": "stdout",
          "text": [
            "              precision    recall  f1-score   support\n",
            "\n",
            "           0       0.94      0.68      0.79     42723\n",
            "           1       0.03      0.25      0.06       957\n",
            "           2       0.34      0.60      0.43      7056\n",
            "\n",
            "    accuracy                           0.66     50736\n",
            "   macro avg       0.44      0.51      0.43     50736\n",
            "weighted avg       0.84      0.66      0.72     50736\n",
            "\n",
            "MAE: \t0.5248935666982024\n",
            "MSE: \t0.8897626931567328\n",
            "ACC: \t0.6575409965310628\n",
            "MCC: \t0.2908320889252972\n",
            "F1-Score:  72.47485597831614\n",
            "Accuracy Score:  65.75409965310628\n"
          ]
        }
      ]
    }
  ],
  "metadata": {
    "colab": {
      "collapsed_sections": [],
      "name": "SVM_model.ipynb",
      "provenance": []
    },
    "kernelspec": {
      "display_name": "Python 3",
      "name": "python3"
    },
    "language_info": {
      "name": "python"
    }
  },
  "nbformat": 4,
  "nbformat_minor": 0
}
