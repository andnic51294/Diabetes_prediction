{
 "cells": [
  {
   "cell_type": "code",
   "execution_count": 3,
   "id": "ed13c21f-214a-4726-aeec-902d5a62730e",
   "metadata": {},
   "outputs": [],
   "source": [
    "import numpy as np\n",
    "import pandas as pd\n",
    "from sklearn.model_selection import train_test_split"
   ]
  },
  {
   "cell_type": "code",
   "execution_count": 4,
   "id": "22fb9c10-26d0-4082-b720-08ad73467133",
   "metadata": {},
   "outputs": [
    {
     "data": {
      "text/plain": [
       "False"
      ]
     },
     "execution_count": 4,
     "metadata": {},
     "output_type": "execute_result"
    }
   ],
   "source": [
    "file = pd.read_csv('diabetes_012_health_indicators_BRFSS2015.csv')\n",
    "\n",
    "file.isna().any().any()  # no missing values"
   ]
  },
  {
   "cell_type": "code",
   "execution_count": 5,
   "id": "fb3171a7-9c96-47f3-bb39-4d4e69d05c28",
   "metadata": {},
   "outputs": [
    {
     "data": {
      "text/html": [
       "<div>\n",
       "<style scoped>\n",
       "    .dataframe tbody tr th:only-of-type {\n",
       "        vertical-align: middle;\n",
       "    }\n",
       "\n",
       "    .dataframe tbody tr th {\n",
       "        vertical-align: top;\n",
       "    }\n",
       "\n",
       "    .dataframe thead th {\n",
       "        text-align: right;\n",
       "    }\n",
       "</style>\n",
       "<table border=\"1\" class=\"dataframe\">\n",
       "  <thead>\n",
       "    <tr style=\"text-align: right;\">\n",
       "      <th></th>\n",
       "      <th>Diabetes_012</th>\n",
       "      <th>HighBP</th>\n",
       "      <th>HighChol</th>\n",
       "      <th>CholCheck</th>\n",
       "      <th>BMI</th>\n",
       "      <th>Smoker</th>\n",
       "      <th>Stroke</th>\n",
       "      <th>HeartDiseaseorAttack</th>\n",
       "      <th>PhysActivity</th>\n",
       "      <th>Fruits</th>\n",
       "      <th>...</th>\n",
       "      <th>AnyHealthcare</th>\n",
       "      <th>NoDocbcCost</th>\n",
       "      <th>GenHlth</th>\n",
       "      <th>MentHlth</th>\n",
       "      <th>PhysHlth</th>\n",
       "      <th>DiffWalk</th>\n",
       "      <th>Sex</th>\n",
       "      <th>Age</th>\n",
       "      <th>Education</th>\n",
       "      <th>Income</th>\n",
       "    </tr>\n",
       "  </thead>\n",
       "  <tbody>\n",
       "    <tr>\n",
       "      <th>0</th>\n",
       "      <td>0.0</td>\n",
       "      <td>1.0</td>\n",
       "      <td>1.0</td>\n",
       "      <td>1.0</td>\n",
       "      <td>40.0</td>\n",
       "      <td>1.0</td>\n",
       "      <td>0.0</td>\n",
       "      <td>0.0</td>\n",
       "      <td>0.0</td>\n",
       "      <td>0.0</td>\n",
       "      <td>...</td>\n",
       "      <td>1.0</td>\n",
       "      <td>0.0</td>\n",
       "      <td>5.0</td>\n",
       "      <td>18.0</td>\n",
       "      <td>15.0</td>\n",
       "      <td>1.0</td>\n",
       "      <td>0.0</td>\n",
       "      <td>9.0</td>\n",
       "      <td>4.0</td>\n",
       "      <td>3.0</td>\n",
       "    </tr>\n",
       "    <tr>\n",
       "      <th>1</th>\n",
       "      <td>0.0</td>\n",
       "      <td>0.0</td>\n",
       "      <td>0.0</td>\n",
       "      <td>0.0</td>\n",
       "      <td>25.0</td>\n",
       "      <td>1.0</td>\n",
       "      <td>0.0</td>\n",
       "      <td>0.0</td>\n",
       "      <td>1.0</td>\n",
       "      <td>0.0</td>\n",
       "      <td>...</td>\n",
       "      <td>0.0</td>\n",
       "      <td>1.0</td>\n",
       "      <td>3.0</td>\n",
       "      <td>0.0</td>\n",
       "      <td>0.0</td>\n",
       "      <td>0.0</td>\n",
       "      <td>0.0</td>\n",
       "      <td>7.0</td>\n",
       "      <td>6.0</td>\n",
       "      <td>1.0</td>\n",
       "    </tr>\n",
       "    <tr>\n",
       "      <th>2</th>\n",
       "      <td>0.0</td>\n",
       "      <td>1.0</td>\n",
       "      <td>1.0</td>\n",
       "      <td>1.0</td>\n",
       "      <td>28.0</td>\n",
       "      <td>0.0</td>\n",
       "      <td>0.0</td>\n",
       "      <td>0.0</td>\n",
       "      <td>0.0</td>\n",
       "      <td>1.0</td>\n",
       "      <td>...</td>\n",
       "      <td>1.0</td>\n",
       "      <td>1.0</td>\n",
       "      <td>5.0</td>\n",
       "      <td>30.0</td>\n",
       "      <td>30.0</td>\n",
       "      <td>1.0</td>\n",
       "      <td>0.0</td>\n",
       "      <td>9.0</td>\n",
       "      <td>4.0</td>\n",
       "      <td>8.0</td>\n",
       "    </tr>\n",
       "    <tr>\n",
       "      <th>3</th>\n",
       "      <td>0.0</td>\n",
       "      <td>1.0</td>\n",
       "      <td>0.0</td>\n",
       "      <td>1.0</td>\n",
       "      <td>27.0</td>\n",
       "      <td>0.0</td>\n",
       "      <td>0.0</td>\n",
       "      <td>0.0</td>\n",
       "      <td>1.0</td>\n",
       "      <td>1.0</td>\n",
       "      <td>...</td>\n",
       "      <td>1.0</td>\n",
       "      <td>0.0</td>\n",
       "      <td>2.0</td>\n",
       "      <td>0.0</td>\n",
       "      <td>0.0</td>\n",
       "      <td>0.0</td>\n",
       "      <td>0.0</td>\n",
       "      <td>11.0</td>\n",
       "      <td>3.0</td>\n",
       "      <td>6.0</td>\n",
       "    </tr>\n",
       "    <tr>\n",
       "      <th>4</th>\n",
       "      <td>0.0</td>\n",
       "      <td>1.0</td>\n",
       "      <td>1.0</td>\n",
       "      <td>1.0</td>\n",
       "      <td>24.0</td>\n",
       "      <td>0.0</td>\n",
       "      <td>0.0</td>\n",
       "      <td>0.0</td>\n",
       "      <td>1.0</td>\n",
       "      <td>1.0</td>\n",
       "      <td>...</td>\n",
       "      <td>1.0</td>\n",
       "      <td>0.0</td>\n",
       "      <td>2.0</td>\n",
       "      <td>3.0</td>\n",
       "      <td>0.0</td>\n",
       "      <td>0.0</td>\n",
       "      <td>0.0</td>\n",
       "      <td>11.0</td>\n",
       "      <td>5.0</td>\n",
       "      <td>4.0</td>\n",
       "    </tr>\n",
       "  </tbody>\n",
       "</table>\n",
       "<p>5 rows × 22 columns</p>\n",
       "</div>"
      ],
      "text/plain": [
       "   Diabetes_012  HighBP  HighChol  CholCheck   BMI  Smoker  Stroke  \\\n",
       "0           0.0     1.0       1.0        1.0  40.0     1.0     0.0   \n",
       "1           0.0     0.0       0.0        0.0  25.0     1.0     0.0   \n",
       "2           0.0     1.0       1.0        1.0  28.0     0.0     0.0   \n",
       "3           0.0     1.0       0.0        1.0  27.0     0.0     0.0   \n",
       "4           0.0     1.0       1.0        1.0  24.0     0.0     0.0   \n",
       "\n",
       "   HeartDiseaseorAttack  PhysActivity  Fruits  ...  AnyHealthcare  \\\n",
       "0                   0.0           0.0     0.0  ...            1.0   \n",
       "1                   0.0           1.0     0.0  ...            0.0   \n",
       "2                   0.0           0.0     1.0  ...            1.0   \n",
       "3                   0.0           1.0     1.0  ...            1.0   \n",
       "4                   0.0           1.0     1.0  ...            1.0   \n",
       "\n",
       "   NoDocbcCost  GenHlth  MentHlth  PhysHlth  DiffWalk  Sex   Age  Education  \\\n",
       "0          0.0      5.0      18.0      15.0       1.0  0.0   9.0        4.0   \n",
       "1          1.0      3.0       0.0       0.0       0.0  0.0   7.0        6.0   \n",
       "2          1.0      5.0      30.0      30.0       1.0  0.0   9.0        4.0   \n",
       "3          0.0      2.0       0.0       0.0       0.0  0.0  11.0        3.0   \n",
       "4          0.0      2.0       3.0       0.0       0.0  0.0  11.0        5.0   \n",
       "\n",
       "   Income  \n",
       "0     3.0  \n",
       "1     1.0  \n",
       "2     8.0  \n",
       "3     6.0  \n",
       "4     4.0  \n",
       "\n",
       "[5 rows x 22 columns]"
      ]
     },
     "execution_count": 5,
     "metadata": {},
     "output_type": "execute_result"
    }
   ],
   "source": [
    "file.head()"
   ]
  },
  {
   "cell_type": "code",
   "execution_count": 12,
   "id": "e8b5cf79-6d73-470e-bf9f-ddb2fa9114e1",
   "metadata": {},
   "outputs": [],
   "source": [
    "#determine which features are the most important with mutual information\n",
    "#decompose a dataset's variation into features with principal component analysis"
   ]
  },
  {
   "cell_type": "markdown",
   "id": "628e1043-ca9c-4b5b-86ca-1d61fe855bc9",
   "metadata": {},
   "source": [
    "### Mutual information"
   ]
  },
  {
   "cell_type": "code",
   "execution_count": 7,
   "id": "5936cb90-61b8-4733-863d-10d280f73748",
   "metadata": {
    "tags": []
   },
   "outputs": [],
   "source": [
    "from sklearn.feature_selection import mutual_info_regression\n",
    "X = file.copy()\n",
    "y = X.pop('Diabetes_012')\n",
    "def make_mi_scores(X, y, discrete_features):\n",
    "    mi_scores = mutual_info_regression(X, y, discrete_features=discrete_features)\n",
    "    mi_scores = pd.Series(mi_scores, name=\"MI Scores\", index=X.columns)\n",
    "    mi_scores = mi_scores.sort_values(ascending=False)\n",
    "    return mi_scores\n",
    "\n",
    "discrete_features = X.dtypes == int\n",
    "\n",
    "#mi_scores = make_mi_scores(X, y, discrete_features)"
   ]
  },
  {
   "cell_type": "code",
   "execution_count": 38,
   "id": "6e944c4c-f49b-4b90-8fc2-72d88a7d0990",
   "metadata": {},
   "outputs": [
    {
     "data": {
      "image/png": "[encoded data removed]",
      "text/plain": [
       "<Figure size 800x500 with 1 Axes>"
      ]
     },
     "metadata": {
      "needs_background": "light"
     },
     "output_type": "display_data"
    }
   ],
   "source": [
    "from matplotlib import pyplot as plt\n",
    "\n",
    "def plot_mi_scores(scores):\n",
    "    scores = scores.sort_values(ascending=True)\n",
    "    width = np.arange(len(scores))\n",
    "    ticks = list(scores.index)\n",
    "    plt.barh(width, scores)\n",
    "    plt.yticks(width, ticks)\n",
    "    plt.title(\"Mutual Information Scores\")\n",
    "\n",
    "\n",
    "plt.figure(dpi=100, figsize=(8, 5))\n",
    "plot_mi_scores(mi_scores)"
   ]
  },
  {
   "cell_type": "markdown",
   "id": "95189700-bd93-4009-a7b2-7352401c68ff",
   "metadata": {},
   "source": [
    "### PCA"
   ]
  },
  {
   "cell_type": "code",
   "execution_count": 60,
   "id": "20b5c445-6673-44d4-a2ab-76747c11c8af",
   "metadata": {},
   "outputs": [
    {
     "name": "stdout",
     "output_type": "stream",
     "text": [
      "['Diabetes_012', 'HighBP', 'HighChol', 'CholCheck', 'BMI', 'Smoker', 'Stroke', 'HeartDiseaseorAttack', 'PhysActivity', 'Fruits', 'Veggies', 'HvyAlcoholConsump', 'AnyHealthcare', 'NoDocbcCost', 'GenHlth', 'MentHlth', 'PhysHlth', 'DiffWalk', 'Sex', 'Age', 'Education', 'Income']\n"
     ]
    }
   ],
   "source": [
    "all_features = list(file.columns)\n",
    "print(all_features)"
   ]
  },
  {
   "cell_type": "code",
   "execution_count": 68,
   "id": "a3e9b48f-128c-43ce-b82d-2f27eba266c8",
   "metadata": {},
   "outputs": [
    {
     "data": {
      "text/html": [
       "<div>\n",
       "<style scoped>\n",
       "    .dataframe tbody tr th:only-of-type {\n",
       "        vertical-align: middle;\n",
       "    }\n",
       "\n",
       "    .dataframe tbody tr th {\n",
       "        vertical-align: top;\n",
       "    }\n",
       "\n",
       "    .dataframe thead th {\n",
       "        text-align: right;\n",
       "    }\n",
       "</style>\n",
       "<table border=\"1\" class=\"dataframe\">\n",
       "  <thead>\n",
       "    <tr style=\"text-align: right;\">\n",
       "      <th></th>\n",
       "      <th>PC1</th>\n",
       "      <th>PC2</th>\n",
       "      <th>PC3</th>\n",
       "      <th>PC4</th>\n",
       "      <th>PC5</th>\n",
       "      <th>PC6</th>\n",
       "      <th>PC7</th>\n",
       "    </tr>\n",
       "  </thead>\n",
       "  <tbody>\n",
       "    <tr>\n",
       "      <th>0</th>\n",
       "      <td>4.044127</td>\n",
       "      <td>0.458946</td>\n",
       "      <td>1.165894</td>\n",
       "      <td>-0.522029</td>\n",
       "      <td>0.008053</td>\n",
       "      <td>0.053978</td>\n",
       "      <td>-0.012893</td>\n",
       "    </tr>\n",
       "    <tr>\n",
       "      <th>1</th>\n",
       "      <td>0.183519</td>\n",
       "      <td>1.164552</td>\n",
       "      <td>-0.766599</td>\n",
       "      <td>-0.649474</td>\n",
       "      <td>-0.407702</td>\n",
       "      <td>-1.978820</td>\n",
       "      <td>-1.392715</td>\n",
       "    </tr>\n",
       "    <tr>\n",
       "      <th>2</th>\n",
       "      <td>2.557531</td>\n",
       "      <td>-0.551462</td>\n",
       "      <td>0.496531</td>\n",
       "      <td>-1.317969</td>\n",
       "      <td>-0.728574</td>\n",
       "      <td>1.986958</td>\n",
       "      <td>0.717574</td>\n",
       "    </tr>\n",
       "    <tr>\n",
       "      <th>3</th>\n",
       "      <td>0.975372</td>\n",
       "      <td>-0.405941</td>\n",
       "      <td>-1.238875</td>\n",
       "      <td>1.796660</td>\n",
       "      <td>0.168490</td>\n",
       "      <td>0.803076</td>\n",
       "      <td>0.724737</td>\n",
       "    </tr>\n",
       "    <tr>\n",
       "      <th>4</th>\n",
       "      <td>0.530145</td>\n",
       "      <td>-0.922105</td>\n",
       "      <td>-1.190813</td>\n",
       "      <td>0.773645</td>\n",
       "      <td>-0.346709</td>\n",
       "      <td>-0.928973</td>\n",
       "      <td>0.034895</td>\n",
       "    </tr>\n",
       "  </tbody>\n",
       "</table>\n",
       "</div>"
      ],
      "text/plain": [
       "        PC1       PC2       PC3       PC4       PC5       PC6       PC7\n",
       "0  4.044127  0.458946  1.165894 -0.522029  0.008053  0.053978 -0.012893\n",
       "1  0.183519  1.164552 -0.766599 -0.649474 -0.407702 -1.978820 -1.392715\n",
       "2  2.557531 -0.551462  0.496531 -1.317969 -0.728574  1.986958  0.717574\n",
       "3  0.975372 -0.405941 -1.238875  1.796660  0.168490  0.803076  0.724737\n",
       "4  0.530145 -0.922105 -1.190813  0.773645 -0.346709 -0.928973  0.034895"
      ]
     },
     "execution_count": 68,
     "metadata": {},
     "output_type": "execute_result"
    }
   ],
   "source": [
    "from sklearn.decomposition import PCA\n",
    "\n",
    "# features that relatively cover all properties and have a MI score > 0.01 with the target\n",
    "features = [\"GenHlth\", \"HighBP\", \"BMI\", \"DiffWalk\", \"Education\", \"Income\", \"Age\"]  \n",
    "\n",
    "# features with MI score > 0.01\n",
    "features2 = [\"BMI\", \"GenHlth\", \"HighBP\", \"HighChol\",  \"HeartDiseaseorAttack\", \"PhysHlth\", \"Education\", \"Income\", \"Age\"]\n",
    "\n",
    "X_ = X.loc[:, features]\n",
    "#X_ = X.loc[:, features2]\n",
    "X_scaled = (X_ - X_.mean(axis=0)) / X_.std(axis=0)\n",
    "\n",
    "# Create principal components\n",
    "pca = PCA()\n",
    "X_pca = pca.fit_transform(X_scaled)\n",
    "\n",
    "# Convert to dataframe\n",
    "component_names = [f\"PC{i+1}\" for i in range(X_pca.shape[1])]\n",
    "X_pca = pd.DataFrame(X_pca, columns=component_names)\n",
    "\n",
    "X_pca.head()"
   ]
  },
  {
   "cell_type": "code",
   "execution_count": 69,
   "id": "8ee6ee50-146b-4110-a8ff-060d66e2cfad",
   "metadata": {},
   "outputs": [
    {
     "data": {
      "text/html": [
       "<div>\n",
       "<style scoped>\n",
       "    .dataframe tbody tr th:only-of-type {\n",
       "        vertical-align: middle;\n",
       "    }\n",
       "\n",
       "    .dataframe tbody tr th {\n",
       "        vertical-align: top;\n",
       "    }\n",
       "\n",
       "    .dataframe thead th {\n",
       "        text-align: right;\n",
       "    }\n",
       "</style>\n",
       "<table border=\"1\" class=\"dataframe\">\n",
       "  <thead>\n",
       "    <tr style=\"text-align: right;\">\n",
       "      <th></th>\n",
       "      <th>PC1</th>\n",
       "      <th>PC2</th>\n",
       "      <th>PC3</th>\n",
       "      <th>PC4</th>\n",
       "      <th>PC5</th>\n",
       "      <th>PC6</th>\n",
       "      <th>PC7</th>\n",
       "    </tr>\n",
       "  </thead>\n",
       "  <tbody>\n",
       "    <tr>\n",
       "      <th>GenHlth</th>\n",
       "      <td>0.477886</td>\n",
       "      <td>0.079024</td>\n",
       "      <td>0.147390</td>\n",
       "      <td>-0.312599</td>\n",
       "      <td>-0.408507</td>\n",
       "      <td>0.391242</td>\n",
       "      <td>-0.570955</td>\n",
       "    </tr>\n",
       "    <tr>\n",
       "      <th>HighBP</th>\n",
       "      <td>0.363370</td>\n",
       "      <td>-0.516743</td>\n",
       "      <td>0.115918</td>\n",
       "      <td>0.378197</td>\n",
       "      <td>-0.548235</td>\n",
       "      <td>-0.137340</td>\n",
       "      <td>0.353618</td>\n",
       "    </tr>\n",
       "    <tr>\n",
       "      <th>BMI</th>\n",
       "      <td>0.248667</td>\n",
       "      <td>0.071553</td>\n",
       "      <td>0.772947</td>\n",
       "      <td>0.349793</td>\n",
       "      <td>0.432647</td>\n",
       "      <td>-0.081503</td>\n",
       "      <td>-0.139343</td>\n",
       "    </tr>\n",
       "    <tr>\n",
       "      <th>DiffWalk</th>\n",
       "      <td>0.434875</td>\n",
       "      <td>-0.011904</td>\n",
       "      <td>0.118131</td>\n",
       "      <td>-0.649191</td>\n",
       "      <td>0.243474</td>\n",
       "      <td>-0.017743</td>\n",
       "      <td>0.561910</td>\n",
       "    </tr>\n",
       "    <tr>\n",
       "      <th>Education</th>\n",
       "      <td>-0.367878</td>\n",
       "      <td>-0.411992</td>\n",
       "      <td>0.341373</td>\n",
       "      <td>-0.457666</td>\n",
       "      <td>-0.147478</td>\n",
       "      <td>-0.520022</td>\n",
       "      <td>-0.277060</td>\n",
       "    </tr>\n",
       "    <tr>\n",
       "      <th>Income</th>\n",
       "      <td>-0.428756</td>\n",
       "      <td>-0.364722</td>\n",
       "      <td>0.304105</td>\n",
       "      <td>-0.066604</td>\n",
       "      <td>0.020284</td>\n",
       "      <td>0.739395</td>\n",
       "      <td>0.197774</td>\n",
       "    </tr>\n",
       "    <tr>\n",
       "      <th>Age</th>\n",
       "      <td>0.263571</td>\n",
       "      <td>-0.647079</td>\n",
       "      <td>-0.380028</td>\n",
       "      <td>0.039361</td>\n",
       "      <td>0.513747</td>\n",
       "      <td>0.063111</td>\n",
       "      <td>-0.312936</td>\n",
       "    </tr>\n",
       "  </tbody>\n",
       "</table>\n",
       "</div>"
      ],
      "text/plain": [
       "                PC1       PC2       PC3       PC4       PC5       PC6  \\\n",
       "GenHlth    0.477886  0.079024  0.147390 -0.312599 -0.408507  0.391242   \n",
       "HighBP     0.363370 -0.516743  0.115918  0.378197 -0.548235 -0.137340   \n",
       "BMI        0.248667  0.071553  0.772947  0.349793  0.432647 -0.081503   \n",
       "DiffWalk   0.434875 -0.011904  0.118131 -0.649191  0.243474 -0.017743   \n",
       "Education -0.367878 -0.411992  0.341373 -0.457666 -0.147478 -0.520022   \n",
       "Income    -0.428756 -0.364722  0.304105 -0.066604  0.020284  0.739395   \n",
       "Age        0.263571 -0.647079 -0.380028  0.039361  0.513747  0.063111   \n",
       "\n",
       "                PC7  \n",
       "GenHlth   -0.570955  \n",
       "HighBP     0.353618  \n",
       "BMI       -0.139343  \n",
       "DiffWalk   0.561910  \n",
       "Education -0.277060  \n",
       "Income     0.197774  \n",
       "Age       -0.312936  "
      ]
     },
     "execution_count": 69,
     "metadata": {},
     "output_type": "execute_result"
    }
   ],
   "source": [
    "loadings = pd.DataFrame(\n",
    "    pca.components_.T,  # transpose the matrix of loadings\n",
    "    columns=component_names,  # so the columns are the principal components\n",
    "    index=X_.columns,  # and the rows are the original features\n",
    ")\n",
    "loadings"
   ]
  },
  {
   "cell_type": "code",
   "execution_count": 70,
   "id": "6ba7da63-d8ae-4c42-a24e-faadb316e2f0",
   "metadata": {
    "tags": []
   },
   "outputs": [
    {
     "data": {
      "text/plain": [
       "PC1    0.082570\n",
       "PC5    0.059705\n",
       "PC2    0.056451\n",
       "PC3    0.055691\n",
       "PC4    0.050755\n",
       "PC6    0.049260\n",
       "PC7    0.044644\n",
       "Name: MI Scores, dtype: float64"
      ]
     },
     "execution_count": 70,
     "metadata": {},
     "output_type": "execute_result"
    }
   ],
   "source": [
    "mi_scores = make_mi_scores(X_pca, y, discrete_features=False)\n",
    "mi_scores"
   ]
  },
  {
   "cell_type": "markdown",
   "id": "45259fdb-bf9b-46fe-a146-6737eee92757",
   "metadata": {},
   "source": [
    "### PCA with the number of components automaticaly chosen to account for a given percent of the total variance"
   ]
  },
  {
   "cell_type": "code",
   "execution_count": 8,
   "id": "ff323571-e118-43fa-bb33-c029dace3e99",
   "metadata": {
    "tags": []
   },
   "outputs": [
    {
     "name": "stdout",
     "output_type": "stream",
     "text": [
      "(253680, 17)\n"
     ]
    }
   ],
   "source": [
    "from sklearn.preprocessing import StandardScaler\n",
    "from sklearn.decomposition import PCA\n",
    "\n",
    "scaler=StandardScaler()\n",
    "scaler.fit(X)\n",
    "scaled_data = scaler.transform(X)\n",
    "\n",
    "pca = PCA(n_components = 0.9)        #keep 90% of the total variance\n",
    "pca.fit(scaled_data)\n",
    "X_pca=pca.transform(scaled_data)\n",
    "print(X_pca.shape)"
   ]
  },
  {
   "cell_type": "code",
   "execution_count": 9,
   "id": "a2d7ffa9-5ab9-4b87-bcd9-548fd7c2b0c0",
   "metadata": {},
   "outputs": [],
   "source": [
    "component_names = [f\"PC{i+1}\" for i in range(X_pca.shape[1])]\n",
    "X_pca = pd.DataFrame(X_pca, columns=component_names)"
   ]
  },
  {
   "cell_type": "code",
   "execution_count": 10,
   "id": "3ed0431b-ddf1-4205-ba47-015d6bf3b8b2",
   "metadata": {},
   "outputs": [
    {
     "data": {
      "text/plain": [
       "PC1     0.066151\n",
       "PC7     0.021656\n",
       "PC2     0.019953\n",
       "PC13    0.017163\n",
       "PC8     0.016564\n",
       "PC6     0.015485\n",
       "PC11    0.011862\n",
       "PC5     0.010314\n",
       "PC15    0.010220\n",
       "PC4     0.009628\n",
       "PC9     0.009434\n",
       "PC17    0.009057\n",
       "PC10    0.009042\n",
       "PC12    0.009022\n",
       "PC3     0.008675\n",
       "PC16    0.007720\n",
       "PC14    0.007696\n",
       "Name: MI Scores, dtype: float64"
      ]
     },
     "execution_count": 10,
     "metadata": {},
     "output_type": "execute_result"
    }
   ],
   "source": [
    "mi_scores = make_mi_scores(X_pca, y, discrete_features=False)\n",
    "mi_scores"
   ]
  },
  {
   "cell_type": "code",
   "execution_count": 14,
   "id": "1782ac27-0f69-4c37-a8b6-d612c5a41b7c",
   "metadata": {},
   "outputs": [
    {
     "name": "stdout",
     "output_type": "stream",
     "text": [
      "<class 'numpy.ndarray'>\n",
      "<class 'numpy.ndarray'>\n"
     ]
    }
   ],
   "source": [
    "\n",
    "print(type(scaled_data))\n",
    "print(type(Y))\n",
    "#print(Y.shape)\n",
    "#print(scaled_data.shape)"
   ]
  },
  {
   "cell_type": "code",
   "execution_count": 15,
   "id": "8338aebb-496b-4b50-a58c-cb808a177d34",
   "metadata": {
    "tags": []
   },
   "outputs": [
    {
     "name": "stdout",
     "output_type": "stream",
     "text": [
      "(202944, 17)\n",
      "(50736, 17)\n",
      "(202944,)\n",
      "(50736,)\n"
     ]
    }
   ],
   "source": [
    "#Y = file['Diabetes_012'].values\n",
    "#X = file.loc[:, file.columns!='Diabetes_012'].values\n",
    "Y=y.values\n",
    "X_train, X_test, Y_train, Y_test = train_test_split( X_pca.values, Y, test_size=0.2, random_state=20)\n",
    "\n",
    "\n",
    "print(X_train.shape)\n",
    "print(X_test.shape)\n",
    "print(Y_train.shape)\n",
    "print(Y_test.shape)"
   ]
  }
 ],
 "metadata": {
  "kernelspec": {
   "display_name": "Python 3 (ipykernel)",
   "language": "python",
   "name": "python3"
  },
  "language_info": {
   "codemirror_mode": {
    "name": "ipython",
    "version": 3
   },
   "file_extension": ".py",
   "mimetype": "text/x-python",
   "name": "python",
   "nbconvert_exporter": "python",
   "pygments_lexer": "ipython3",
   "version": "3.8.8"
  }
 },
 "nbformat": 4,
 "nbformat_minor": 5
}
