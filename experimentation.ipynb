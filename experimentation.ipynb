{
 "cells": [
  {
   "cell_type": "code",
   "execution_count": 1,
   "metadata": {},
   "outputs": [],
   "source": [
    "try:\n",
    "  import google.colab\n",
    "  RUNNING_ON_COLAB= True\n",
    "except:\n",
    "  RUNNING_ON_COLAB= False\n",
    "\n",
    "if RUNNING_ON_COLAB:\n",
    "  from google.colab import drive\n",
    "  drive.mount('/content/drive')"
   ]
  },
  {
   "cell_type": "code",
   "execution_count": 2,
   "metadata": {},
   "outputs": [
    {
     "name": "stdout",
     "output_type": "stream",
     "text": [
      "data\t\t\t\t\t      Feature_eng.ipynb\n",
      "diabetes_012_health_indicators_BRFSS2015.csv  mlruns\n",
      "experimentation.ipynb\t\t\t      plots\n",
      "exploration_basic.ipynb\t\t\t      SVM_model.ipynb\n"
     ]
    }
   ],
   "source": [
    "!ls"
   ]
  },
  {
   "cell_type": "code",
   "execution_count": 3,
   "metadata": {},
   "outputs": [],
   "source": [
    "import os "
   ]
  },
  {
   "cell_type": "code",
   "execution_count": 4,
   "metadata": {},
   "outputs": [
    {
     "name": "stdout",
     "output_type": "stream",
     "text": [
      "Current user: slavoj\n"
     ]
    }
   ],
   "source": [
    "USER = os.environ.get('USER')\n",
    "print(f'Current user: {USER}')"
   ]
  },
  {
   "cell_type": "code",
   "execution_count": 5,
   "metadata": {},
   "outputs": [],
   "source": [
    "PATH = 'data/diabetes_012_health_indicators_BRFSS2015.csv'"
   ]
  },
  {
   "cell_type": "code",
   "execution_count": 78,
   "metadata": {},
   "outputs": [],
   "source": [
    "import pandas as pd\n",
    "import numpy as np\n",
    "from tqdm import tqdm\n",
    "\n",
    "import matplotlib.pyplot as plt \n",
    "import seaborn as sns\n",
    "\n",
    "from sklearn.decomposition import PCA\n",
    "from sklearn.manifold import TSNE\n",
    "import umap.umap_ as umap\n",
    "\n",
    "import lightgbm\n",
    "import xgboost\n",
    "from sklearn.ensemble import RandomForestClassifier\n",
    "from sklearn.tree import DecisionTreeClassifier\n",
    "from sklearn.model_selection import train_test_split\n",
    "from sklearn.decomposition import PCA\n",
    "import umap \n",
    "\n",
    "from sklearn.metrics import mean_absolute_error, mean_squared_error, matthews_corrcoef, accuracy_score, f1_score\n",
    "from sklearn.metrics import classification_report\n",
    "\n",
    "\n",
    "import multiprocessing\n",
    "import time\n",
    "import mlflow"
   ]
  },
  {
   "cell_type": "code",
   "execution_count": 7,
   "metadata": {},
   "outputs": [],
   "source": [
    "data = pd.read_csv(PATH)"
   ]
  },
  {
   "cell_type": "code",
   "execution_count": 17,
   "metadata": {},
   "outputs": [],
   "source": [
    "X, Y = data.drop(\"Diabetes_012\", axis = 1), data['Diabetes_012']"
   ]
  },
  {
   "cell_type": "code",
   "execution_count": 23,
   "metadata": {},
   "outputs": [],
   "source": [
    "X_train, X_test, Y_train, Y_test = train_test_split(X, Y, test_size = .2, random_state = 20)"
   ]
  },
  {
   "cell_type": "code",
   "execution_count": 8,
   "metadata": {},
   "outputs": [],
   "source": [
    "client = mlflow.tracking.MlflowClient()"
   ]
  },
  {
   "cell_type": "code",
   "execution_count": 9,
   "metadata": {},
   "outputs": [
    {
     "data": {
      "text/plain": [
       "'file:///home/slavoj/Desktop/hnnaharendt/diabetes-prediction/Diabetes_prediction/mlruns'"
      ]
     },
     "execution_count": 9,
     "metadata": {},
     "output_type": "execute_result"
    }
   ],
   "source": [
    "mlflow.tracking.get_tracking_uri()"
   ]
  },
  {
   "cell_type": "code",
   "execution_count": 10,
   "metadata": {},
   "outputs": [
    {
     "name": "stderr",
     "output_type": "stream",
     "text": [
      "2022/01/08 15:24:09 WARNING mlflow.utils.autologging_utils: You are using an unsupported version of sklearn. If you encounter errors during autologging, try upgrading / downgrading sklearn to a supported version, or try upgrading MLflow.\n"
     ]
    }
   ],
   "source": [
    "mlflow.sklearn.autolog()\n",
    "mlflow.lightgbm.autolog()\n",
    "mlflow.xgboost.autolog()"
   ]
  },
  {
   "cell_type": "code",
   "execution_count": 32,
   "metadata": {},
   "outputs": [],
   "source": [
    "def custom_logging(y_true, y_pred, verbose = 1):\n",
    "    mcc = matthews_corrcoef(y_true = y_true, y_pred = y_pred)\n",
    "    mse = mean_squared_error(y_true = y_true, y_pred = y_pred)\n",
    "    mae = mean_absolute_error(y_true = y_true, y_pred = y_pred)\n",
    "    acc = accuracy_score(y_true = y_true, y_pred = y_pred)\n",
    "    f1 = f1_score(y_true = y_true, y_pred = y_pred, average='weighted')\n",
    "\n",
    "    mlflow.log_metric(key = 'acc_', value = acc)\n",
    "    mlflow.log_metric(key = 'mae_', value = mae)\n",
    "    mlflow.log_metric(key = 'mse_', value = mse)\n",
    "    mlflow.log_metric(key = 'f1_', value = f1)\n",
    "    mlflow.log_metric(key = 'mcc_', value = mcc)\n",
    "\n",
    "    if verbose:\n",
    "        print(classification_report(y_true, y_pred, target_names=['0', '1', '2']))\n",
    "        print(f\"MAE: \\t{mae}\")\n",
    "        print(f\"MSE: \\t{mse}\")\n",
    "        print(f\"ACC: \\t{acc}\")\n",
    "        print(f\"MCC: \\t{mcc}\")"
   ]
  },
  {
   "cell_type": "code",
   "execution_count": 14,
   "metadata": {},
   "outputs": [
    {
     "data": {
      "text/plain": [
       "'1'"
      ]
     },
     "execution_count": 14,
     "metadata": {},
     "output_type": "execute_result"
    }
   ],
   "source": [
    "mlflow.create_experiment('Tree-based methods')"
   ]
  },
  {
   "cell_type": "markdown",
   "metadata": {},
   "source": [
    "#### Models w/ default params, no additional feature"
   ]
  },
  {
   "cell_type": "code",
   "execution_count": 26,
   "metadata": {},
   "outputs": [
    {
     "name": "stderr",
     "output_type": "stream",
     "text": [
      "2022/01/08 18:04:31 WARNING mlflow.utils.autologging_utils: MLflow autologging encountered a warning: \"/home/slavoj/mambaforge/envs/experimental_2/lib/python3.9/site-packages/sklearn/utils/deprecation.py:87: FutureWarning: Function plot_confusion_matrix is deprecated; Function `plot_confusion_matrix` is deprecated in 1.0 and will be removed in 1.2. Use one of the class methods: ConfusionMatrixDisplay.from_predictions or ConfusionMatrixDisplay.from_estimator.\"\n"
     ]
    },
    {
     "name": "stdout",
     "output_type": "stream",
     "text": [
      "              precision    recall  f1-score   support\n",
      "\n",
      "           0       0.88      0.86      0.87     42753\n",
      "           1       0.03      0.04      0.04       927\n",
      "           2       0.30      0.32      0.31      7056\n",
      "\n",
      "    accuracy                           0.77     50736\n",
      "   macro avg       0.40      0.41      0.40     50736\n",
      "weighted avg       0.78      0.77      0.77     50736\n",
      "\n",
      "MAE: \t0.42086486912645854\n",
      "MSE: \t0.801620151371807\n",
      "ACC: \t0.7695127719962157\n",
      "MCC: \t0.18429470140408055\n"
     ]
    }
   ],
   "source": [
    "with mlflow.start_run(run_name = \"DT, default_params, no features\", experiment_id = 1) as run:\n",
    "    decision_tree = DecisionTreeClassifier()\n",
    "    decision_tree.fit(X_train, Y_train)\n",
    "    Y_preds = decision_tree.predict(X_test)\n",
    "    custom_logging(Y_test, Y_preds)\n",
    "\n"
   ]
  },
  {
   "cell_type": "code",
   "execution_count": 33,
   "metadata": {},
   "outputs": [
    {
     "name": "stderr",
     "output_type": "stream",
     "text": [
      "2022/01/08 18:48:00 WARNING mlflow.utils.autologging_utils: MLflow autologging encountered a warning: \"/home/slavoj/mambaforge/envs/experimental_2/lib/python3.9/site-packages/sklearn/utils/deprecation.py:87: FutureWarning: Function plot_confusion_matrix is deprecated; Function `plot_confusion_matrix` is deprecated in 1.0 and will be removed in 1.2. Use one of the class methods: ConfusionMatrixDisplay.from_predictions or ConfusionMatrixDisplay.from_estimator.\"\n"
     ]
    },
    {
     "name": "stdout",
     "output_type": "stream",
     "text": [
      "              precision    recall  f1-score   support\n",
      "\n",
      "           0       0.86      0.97      0.91     42753\n",
      "           1       0.02      0.00      0.00       927\n",
      "           2       0.46      0.19      0.27      7056\n",
      "\n",
      "    accuracy                           0.84     50736\n",
      "   macro avg       0.45      0.39      0.39     50736\n",
      "weighted avg       0.79      0.84      0.81     50736\n",
      "\n",
      "MAE: \t0.3010091453800063\n",
      "MSE: \t0.5829391359192684\n",
      "ACC: \t0.8399558498896247\n",
      "MCC: \t0.22113168136271447\n"
     ]
    }
   ],
   "source": [
    "with mlflow.start_run(run_name = \"RF, default_params, no features\", experiment_id = 1) as run:\n",
    "    rf_model = RandomForestClassifier()\n",
    "    rf_model.fit(X_train, Y_train)\n",
    "    Y_preds = rf_model.predict(X_test)\n",
    "    custom_logging(Y_test, Y_preds)"
   ]
  },
  {
   "cell_type": "code",
   "execution_count": 28,
   "metadata": {},
   "outputs": [
    {
     "name": "stderr",
     "output_type": "stream",
     "text": [
      "/home/slavoj/mambaforge/envs/experimental_2/lib/python3.9/site-packages/xgboost/sklearn.py:1224: UserWarning: The use of label encoder in XGBClassifier is deprecated and will be removed in a future release. To remove this warning, do the following: 1) Pass option use_label_encoder=False when constructing XGBClassifier object; and 2) Encode your labels (y) as integers starting with 0, i.e. 0, 1, 2, ..., [num_class - 1].\n",
      "  warnings.warn(label_encoder_deprecation_msg, UserWarning)\n"
     ]
    },
    {
     "name": "stdout",
     "output_type": "stream",
     "text": [
      "[18:07:44] WARNING: /home/conda/feedstock_root/build_artifacts/xgboost-split_1637426272325/work/src/learner.cc:1115: Starting in XGBoost 1.3.0, the default evaluation metric used with the objective 'multi:softprob' was changed from 'merror' to 'mlogloss'. Explicitly set eval_metric if you'd like to restore the old behavior.\n",
      "              precision    recall  f1-score   support\n",
      "\n",
      "           0       0.86      0.98      0.92     42753\n",
      "           1       0.00      0.00      0.00       927\n",
      "           2       0.54      0.19      0.28      7056\n",
      "\n",
      "    accuracy                           0.85     50736\n",
      "   macro avg       0.47      0.39      0.40     50736\n",
      "weighted avg       0.80      0.85      0.81     50736\n",
      "\n",
      "MAE: \t0.28482734153263956\n",
      "MSE: \t0.551383632923368\n",
      "ACC: \t0.8484508041627247\n",
      "MCC: \t0.25221772604933373\n"
     ]
    },
    {
     "name": "stderr",
     "output_type": "stream",
     "text": [
      "/home/slavoj/mambaforge/envs/experimental_2/lib/python3.9/site-packages/sklearn/metrics/_classification.py:1318: UndefinedMetricWarning: Precision and F-score are ill-defined and being set to 0.0 in labels with no predicted samples. Use `zero_division` parameter to control this behavior.\n",
      "  _warn_prf(average, modifier, msg_start, len(result))\n",
      "/home/slavoj/mambaforge/envs/experimental_2/lib/python3.9/site-packages/sklearn/metrics/_classification.py:1318: UndefinedMetricWarning: Precision and F-score are ill-defined and being set to 0.0 in labels with no predicted samples. Use `zero_division` parameter to control this behavior.\n",
      "  _warn_prf(average, modifier, msg_start, len(result))\n",
      "/home/slavoj/mambaforge/envs/experimental_2/lib/python3.9/site-packages/sklearn/metrics/_classification.py:1318: UndefinedMetricWarning: Precision and F-score are ill-defined and being set to 0.0 in labels with no predicted samples. Use `zero_division` parameter to control this behavior.\n",
      "  _warn_prf(average, modifier, msg_start, len(result))\n"
     ]
    }
   ],
   "source": [
    "with mlflow.start_run(run_name = \"XGB, default_params, no features\", experiment_id = 1) as run:\n",
    "    xgb_model = xgboost.XGBClassifier()\n",
    "    xgb_model.fit(X_train, Y_train)\n",
    "    Y_preds = xgb_model.predict(X_test)\n",
    "    custom_logging(Y_test, Y_preds)"
   ]
  },
  {
   "cell_type": "code",
   "execution_count": 34,
   "metadata": {},
   "outputs": [
    {
     "name": "stdout",
     "output_type": "stream",
     "text": [
      "              precision    recall  f1-score   support\n",
      "\n",
      "           0       0.86      0.98      0.92     42753\n",
      "           1       0.00      0.00      0.00       927\n",
      "           2       0.56      0.18      0.27      7056\n",
      "\n",
      "    accuracy                           0.85     50736\n",
      "   macro avg       0.47      0.39      0.40     50736\n",
      "weighted avg       0.80      0.85      0.81     50736\n",
      "\n",
      "MAE: \t0.2835856196783349\n",
      "MSE: \t0.5488804793440555\n",
      "ACC: \t0.8490618101545254\n",
      "MCC: \t0.24923258027101233\n"
     ]
    }
   ],
   "source": [
    "with mlflow.start_run(run_name = \"LGBM, default_params, no features\", experiment_id = 1) as run:\n",
    "    lgb_model = lightgbm.LGBMClassifier()\n",
    "    lgb_model.fit(X_train, Y_train)\n",
    "    Y_preds = lgb_model.predict(X_test)\n",
    "    custom_logging(Y_test, Y_preds)"
   ]
  },
  {
   "cell_type": "code",
   "execution_count": 87,
   "metadata": {},
   "outputs": [
    {
     "data": {
      "image/png": "[encoded data removed]",
      "text/plain": [
       "<Figure size 720x720 with 4 Axes>"
      ]
     },
     "metadata": {
      "needs_background": "light"
     },
     "output_type": "display_data"
    }
   ],
   "source": [
    "fig, axs = plt.subplots(nrows= 2, ncols = 2, figsize = (10,10))\n",
    "features = X_train.columns\n",
    "i, j = 0, 0\n",
    "for model in [decision_tree, rf_model, xgb_model, lgb_model]:\n",
    "    if i == 2:\n",
    "        i = 0\n",
    "        j = 1\n",
    "    fi_subset = pd.DataFrame(model.feature_importances_, index = features,\n",
    "            columns = ['f_importance']).sort_values(by = 'f_importance', ascending=False)\n",
    "    \n",
    "    sns.barplot(y = fi_subset.index, x = fi_subset.f_importance,\n",
    "    order = features, ax = axs[i][j],\n",
    "    palette = 'icefire'\n",
    "    ).set_title(f\"{type(model).__name__}\")\n",
    " \n",
    "    i += 1\n",
    "\n",
    "plt.suptitle(\"Feature importances for various tree based methods\")   \n",
    "plt.tight_layout()\n",
    "plt.savefig(\"plots/fi_basic\")\n",
    "plt.show()\n",
    "\n"
   ]
  },
  {
   "cell_type": "markdown",
   "metadata": {},
   "source": [
    "### Exploring dimensionality reduction "
   ]
  },
  {
   "cell_type": "markdown",
   "metadata": {},
   "source": [
    "#### PCA"
   ]
  },
  {
   "cell_type": "code",
   "execution_count": 35,
   "metadata": {},
   "outputs": [
    {
     "name": "stderr",
     "output_type": "stream",
     "text": [
      "2022/01/08 18:57:35 INFO mlflow.utils.autologging_utils: Created MLflow autologging run with ID '3a31cf0945a84d398ed2e6dc92a6e248', which will track hyperparameters, performance metrics, model artifacts, and lineage information for the current sklearn workflow\n",
      "2022/01/08 18:57:36 WARNING mlflow.sklearn: Training metrics will not be recorded because training labels were not specified. To automatically record training metrics, provide training labels as inputs to the model training function.\n",
      "2022/01/08 18:57:36 WARNING mlflow.sklearn: Failed to infer model signature: the trained model does not specify a `predict` function, which is required in order to infer the signature\n"
     ]
    }
   ],
   "source": [
    "dim_reduction = PCA(n_components = 10)\n",
    "dim_reduced_X_train = dim_reduction.fit_transform(X_train)\n",
    "dim_reduced_X_test = dim_reduction.transform(X_test)"
   ]
  },
  {
   "cell_type": "code",
   "execution_count": 36,
   "metadata": {},
   "outputs": [
    {
     "name": "stderr",
     "output_type": "stream",
     "text": [
      "2022/01/08 19:03:37 WARNING mlflow.utils.autologging_utils: MLflow autologging encountered a warning: \"/home/slavoj/mambaforge/envs/experimental_2/lib/python3.9/site-packages/sklearn/utils/deprecation.py:87: FutureWarning: Function plot_confusion_matrix is deprecated; Function `plot_confusion_matrix` is deprecated in 1.0 and will be removed in 1.2. Use one of the class methods: ConfusionMatrixDisplay.from_predictions or ConfusionMatrixDisplay.from_estimator.\"\n"
     ]
    },
    {
     "name": "stdout",
     "output_type": "stream",
     "text": [
      "              precision    recall  f1-score   support\n",
      "\n",
      "           0       0.87      0.87      0.87     42753\n",
      "           1       0.02      0.03      0.03       927\n",
      "           2       0.28      0.29      0.29      7056\n",
      "\n",
      "    accuracy                           0.77     50736\n",
      "   macro avg       0.39      0.39      0.39     50736\n",
      "weighted avg       0.77      0.77      0.77     50736\n",
      "\n",
      "MAE: \t0.4187756228319142\n",
      "MSE: \t0.8010288552507095\n",
      "ACC: \t0.7723509933774835\n",
      "MCC: \t0.1658455555307739\n"
     ]
    }
   ],
   "source": [
    "\n",
    "with mlflow.start_run(run_name = \"DT, pca = 10\", experiment_id = 1) as run:\n",
    "    decision_tree_pca = DecisionTreeClassifier()\n",
    "    decision_tree_pca.fit(dim_reduced_X_train, Y_train)\n",
    "    Y_preds = decision_tree_pca.predict(dim_reduced_X_test)\n",
    "    custom_logging(Y_test, Y_preds)"
   ]
  },
  {
   "cell_type": "code",
   "execution_count": 37,
   "metadata": {},
   "outputs": [
    {
     "name": "stderr",
     "output_type": "stream",
     "text": [
      "2022/01/08 19:04:40 WARNING mlflow.utils.autologging_utils: MLflow autologging encountered a warning: \"/home/slavoj/mambaforge/envs/experimental_2/lib/python3.9/site-packages/sklearn/utils/deprecation.py:87: FutureWarning: Function plot_confusion_matrix is deprecated; Function `plot_confusion_matrix` is deprecated in 1.0 and will be removed in 1.2. Use one of the class methods: ConfusionMatrixDisplay.from_predictions or ConfusionMatrixDisplay.from_estimator.\"\n"
     ]
    },
    {
     "name": "stdout",
     "output_type": "stream",
     "text": [
      "              precision    recall  f1-score   support\n",
      "\n",
      "           0       0.86      0.97      0.91     42753\n",
      "           1       0.03      0.00      0.00       927\n",
      "           2       0.47      0.16      0.24      7056\n",
      "\n",
      "    accuracy                           0.84     50736\n",
      "   macro avg       0.45      0.38      0.39     50736\n",
      "weighted avg       0.79      0.84      0.80     50736\n",
      "\n",
      "MAE: \t0.2997477136549984\n",
      "MSE: \t0.5804951119520656\n",
      "ACC: \t0.8406259854935352\n",
      "MCC: \t0.205613877494482\n"
     ]
    }
   ],
   "source": [
    "\n",
    "with mlflow.start_run(run_name = \"RF, pca = 10\", experiment_id = 1) as run:\n",
    "    rf_pca = RandomForestClassifier()\n",
    "    rf_pca.fit(dim_reduced_X_train, Y_train)\n",
    "    Y_preds = rf_pca.predict(dim_reduced_X_test)\n",
    "    custom_logging(Y_test, Y_preds)"
   ]
  },
  {
   "cell_type": "code",
   "execution_count": 38,
   "metadata": {},
   "outputs": [
    {
     "name": "stderr",
     "output_type": "stream",
     "text": [
      "/home/slavoj/mambaforge/envs/experimental_2/lib/python3.9/site-packages/xgboost/sklearn.py:1224: UserWarning: The use of label encoder in XGBClassifier is deprecated and will be removed in a future release. To remove this warning, do the following: 1) Pass option use_label_encoder=False when constructing XGBClassifier object; and 2) Encode your labels (y) as integers starting with 0, i.e. 0, 1, 2, ..., [num_class - 1].\n",
      "  warnings.warn(label_encoder_deprecation_msg, UserWarning)\n"
     ]
    },
    {
     "name": "stdout",
     "output_type": "stream",
     "text": [
      "[19:04:53] WARNING: /home/conda/feedstock_root/build_artifacts/xgboost-split_1637426272325/work/src/learner.cc:1115: Starting in XGBoost 1.3.0, the default evaluation metric used with the objective 'multi:softprob' was changed from 'merror' to 'mlogloss'. Explicitly set eval_metric if you'd like to restore the old behavior.\n",
      "              precision    recall  f1-score   support\n",
      "\n",
      "           0       0.86      0.98      0.92     42753\n",
      "           1       0.00      0.00      0.00       927\n",
      "           2       0.52      0.18      0.26      7056\n",
      "\n",
      "    accuracy                           0.85     50736\n",
      "   macro avg       0.46      0.38      0.39     50736\n",
      "weighted avg       0.80      0.85      0.81     50736\n",
      "\n",
      "MAE: \t0.2886313465783664\n",
      "MSE: \t0.5589719331441185\n",
      "ACC: \t0.8465389467045096\n",
      "MCC: \t0.2376376456024916\n"
     ]
    }
   ],
   "source": [
    "\n",
    "with mlflow.start_run(run_name = \"XGB, pca = 10\", experiment_id = 1) as run:\n",
    "    xgb_pca = xgboost.XGBClassifier()\n",
    "    xgb_pca.fit(dim_reduced_X_train, Y_train)\n",
    "    Y_preds = xgb_pca.predict(dim_reduced_X_test)\n",
    "    custom_logging(Y_test, Y_preds)"
   ]
  },
  {
   "cell_type": "code",
   "execution_count": 39,
   "metadata": {},
   "outputs": [
    {
     "name": "stdout",
     "output_type": "stream",
     "text": [
      "              precision    recall  f1-score   support\n",
      "\n",
      "           0       0.86      0.98      0.92     42753\n",
      "           1       0.00      0.00      0.00       927\n",
      "           2       0.53      0.16      0.25      7056\n",
      "\n",
      "    accuracy                           0.85     50736\n",
      "   macro avg       0.46      0.38      0.39     50736\n",
      "weighted avg       0.80      0.85      0.81     50736\n",
      "\n",
      "MAE: \t0.28809918006937874\n",
      "MSE: \t0.5579273099968464\n",
      "ACC: \t0.8468148848943551\n",
      "MCC: \t0.23152148881331808\n"
     ]
    },
    {
     "name": "stderr",
     "output_type": "stream",
     "text": [
      "/home/slavoj/mambaforge/envs/experimental_2/lib/python3.9/site-packages/sklearn/metrics/_classification.py:1318: UndefinedMetricWarning: Precision and F-score are ill-defined and being set to 0.0 in labels with no predicted samples. Use `zero_division` parameter to control this behavior.\n",
      "  _warn_prf(average, modifier, msg_start, len(result))\n",
      "/home/slavoj/mambaforge/envs/experimental_2/lib/python3.9/site-packages/sklearn/metrics/_classification.py:1318: UndefinedMetricWarning: Precision and F-score are ill-defined and being set to 0.0 in labels with no predicted samples. Use `zero_division` parameter to control this behavior.\n",
      "  _warn_prf(average, modifier, msg_start, len(result))\n",
      "/home/slavoj/mambaforge/envs/experimental_2/lib/python3.9/site-packages/sklearn/metrics/_classification.py:1318: UndefinedMetricWarning: Precision and F-score are ill-defined and being set to 0.0 in labels with no predicted samples. Use `zero_division` parameter to control this behavior.\n",
      "  _warn_prf(average, modifier, msg_start, len(result))\n"
     ]
    }
   ],
   "source": [
    "\n",
    "with mlflow.start_run(run_name = \"LGBM, pca = 10\", experiment_id = 1) as run:\n",
    "    lgbm_pca = lightgbm.LGBMClassifier()\n",
    "    lgbm_pca.fit(dim_reduced_X_train, Y_train)\n",
    "    Y_preds = lgbm_pca.predict(dim_reduced_X_test)\n",
    "    custom_logging(Y_test, Y_preds)"
   ]
  },
  {
   "cell_type": "code",
   "execution_count": 88,
   "metadata": {},
   "outputs": [
    {
     "data": {
      "image/png": "[encoded data removed]",
      "text/plain": [
       "<Figure size 720x720 with 4 Axes>"
      ]
     },
     "metadata": {
      "needs_background": "light"
     },
     "output_type": "display_data"
    }
   ],
   "source": [
    "fig, axs = plt.subplots(nrows= 2, ncols = 2, figsize = (10,10))\n",
    "dim_features = pd.DataFrame(dim_reduced_X_train)\n",
    "dim_features.columns = [\"pca_\" + str(i) for i in range(len(dim_features.columns))]\n",
    "\n",
    "i, j = 0, 0\n",
    "for model in [decision_tree_pca, rf_pca, xgb_pca, lgbm_pca]:\n",
    "    if i == 2:\n",
    "        i = 0\n",
    "        j = 1\n",
    "    fi_subset = pd.DataFrame(model.feature_importances_, index = dim_features.columns,\n",
    "            columns = ['f_importance']).sort_values(by = 'f_importance', ascending=False)\n",
    "    \n",
    "    sns.barplot( y = fi_subset.index, x = fi_subset.f_importance,\n",
    "            ax = axs[i][j],order = dim_features.columns,\n",
    "            palette = 'icefire').set_title(f\"{type(model).__name__}\")\n",
    " \n",
    "    i += 1\n",
    "\n",
    "plt.suptitle(\"Feature importances for various tree based methods after PCA\")   \n",
    "plt.tight_layout()\n",
    "plt.savefig(\"plots/fi_pca\")\n",
    "plt.show()"
   ]
  },
  {
   "cell_type": "markdown",
   "metadata": {},
   "source": [
    "#### UMAP"
   ]
  },
  {
   "cell_type": "code",
   "execution_count": 79,
   "metadata": {},
   "outputs": [
    {
     "name": "stderr",
     "output_type": "stream",
     "text": [
      "/home/slavoj/mambaforge/envs/experimental_2/lib/python3.9/site-packages/scipy/sparse/_index.py:125: SparseEfficiencyWarning: Changing the sparsity structure of a csr_matrix is expensive. lil_matrix is more efficient.\n",
      "  self._set_arrayXarray(i, j, x)\n"
     ]
    }
   ],
   "source": [
    "#### PCA\n",
    "dim_reduction = umap.UMAP(n_components = 10)\n",
    "dim_reduced_X_train = dim_reduction.fit_transform(X_train)\n",
    "dim_reduced_X_test = dim_reduction.transform(X_test)\n",
    "\n"
   ]
  },
  {
   "cell_type": "code",
   "execution_count": 80,
   "metadata": {},
   "outputs": [
    {
     "name": "stderr",
     "output_type": "stream",
     "text": [
      "2022/01/08 20:09:39 WARNING mlflow.utils.autologging_utils: MLflow autologging encountered a warning: \"/home/slavoj/mambaforge/envs/experimental_2/lib/python3.9/site-packages/sklearn/utils/deprecation.py:87: FutureWarning: Function plot_confusion_matrix is deprecated; Function `plot_confusion_matrix` is deprecated in 1.0 and will be removed in 1.2. Use one of the class methods: ConfusionMatrixDisplay.from_predictions or ConfusionMatrixDisplay.from_estimator.\"\n"
     ]
    },
    {
     "name": "stdout",
     "output_type": "stream",
     "text": [
      "              precision    recall  f1-score   support\n",
      "\n",
      "           0       0.87      0.85      0.86     42753\n",
      "           1       0.03      0.04      0.03       927\n",
      "           2       0.25      0.27      0.26      7056\n",
      "\n",
      "    accuracy                           0.76     50736\n",
      "   macro avg       0.38      0.39      0.38     50736\n",
      "weighted avg       0.77      0.76      0.76     50736\n",
      "\n",
      "MAE: \t0.44782797224850207\n",
      "MSE: \t0.8569260485651214\n",
      "ACC: \t0.7567210659098076\n",
      "MCC: \t0.13224867876462681\n"
     ]
    }
   ],
   "source": [
    "with mlflow.start_run(run_name = \"DT, umap = 10\", experiment_id = 1) as run:\n",
    "    decision_tree_umap = DecisionTreeClassifier()\n",
    "    decision_tree_umap.fit(dim_reduced_X_train, Y_train)\n",
    "    Y_preds = decision_tree_umap.predict(dim_reduced_X_test)\n",
    "    custom_logging(Y_test, Y_preds)\n",
    "\n"
   ]
  },
  {
   "cell_type": "code",
   "execution_count": 81,
   "metadata": {},
   "outputs": [
    {
     "name": "stderr",
     "output_type": "stream",
     "text": [
      "2022/01/08 20:11:09 WARNING mlflow.utils.autologging_utils: MLflow autologging encountered a warning: \"/home/slavoj/mambaforge/envs/experimental_2/lib/python3.9/site-packages/sklearn/utils/deprecation.py:87: FutureWarning: Function plot_confusion_matrix is deprecated; Function `plot_confusion_matrix` is deprecated in 1.0 and will be removed in 1.2. Use one of the class methods: ConfusionMatrixDisplay.from_predictions or ConfusionMatrixDisplay.from_estimator.\"\n"
     ]
    },
    {
     "name": "stdout",
     "output_type": "stream",
     "text": [
      "              precision    recall  f1-score   support\n",
      "\n",
      "           0       0.86      0.97      0.91     42753\n",
      "           1       0.03      0.00      0.00       927\n",
      "           2       0.40      0.14      0.21      7056\n",
      "\n",
      "    accuracy                           0.83     50736\n",
      "   macro avg       0.43      0.37      0.37     50736\n",
      "weighted avg       0.78      0.83      0.79     50736\n",
      "\n",
      "MAE: \t0.3138008514664144\n",
      "MSE: \t0.6087787764112268\n",
      "ACC: \t0.8336881110059918\n",
      "MCC: \t0.1648261211735937\n"
     ]
    }
   ],
   "source": [
    "with mlflow.start_run(run_name = \"RF, umap = 10\", experiment_id = 1) as run:\n",
    "    rf_umap = RandomForestClassifier()\n",
    "    rf_umap.fit(dim_reduced_X_train, Y_train)\n",
    "    Y_preds = rf_umap.predict(dim_reduced_X_test)\n",
    "    custom_logging(Y_test, Y_preds)\n",
    "\n"
   ]
  },
  {
   "cell_type": "code",
   "execution_count": 82,
   "metadata": {},
   "outputs": [
    {
     "name": "stderr",
     "output_type": "stream",
     "text": [
      "/home/slavoj/mambaforge/envs/experimental_2/lib/python3.9/site-packages/xgboost/sklearn.py:1224: UserWarning: The use of label encoder in XGBClassifier is deprecated and will be removed in a future release. To remove this warning, do the following: 1) Pass option use_label_encoder=False when constructing XGBClassifier object; and 2) Encode your labels (y) as integers starting with 0, i.e. 0, 1, 2, ..., [num_class - 1].\n",
      "  warnings.warn(label_encoder_deprecation_msg, UserWarning)\n"
     ]
    },
    {
     "name": "stdout",
     "output_type": "stream",
     "text": [
      "[20:11:26] WARNING: /home/conda/feedstock_root/build_artifacts/xgboost-split_1637426272325/work/src/learner.cc:1115: Starting in XGBoost 1.3.0, the default evaluation metric used with the objective 'multi:softprob' was changed from 'merror' to 'mlogloss'. Explicitly set eval_metric if you'd like to restore the old behavior.\n",
      "              precision    recall  f1-score   support\n",
      "\n",
      "           0       0.84      0.96      0.90     42753\n",
      "           1       0.02      0.01      0.02       927\n",
      "           2       0.07      0.01      0.02      7056\n",
      "\n",
      "    accuracy                           0.81     50736\n",
      "   macro avg       0.31      0.33      0.31     50736\n",
      "weighted avg       0.72      0.81      0.76     50736\n",
      "\n",
      "MAE: \t0.34594765058341215\n",
      "MSE: \t0.6653658152002523\n",
      "ACC: \t0.8137614317250079\n",
      "MCC: \t-0.028119012719161254\n"
     ]
    }
   ],
   "source": [
    "with mlflow.start_run(run_name = \"XGB, umap = 10\", experiment_id = 1) as run:\n",
    "    xgb_umap = xgboost.XGBClassifier()\n",
    "    xgb_umap.fit(dim_reduced_X_train, Y_train)\n",
    "    Y_preds = xgb_pca.predict(dim_reduced_X_test)\n",
    "    custom_logging(Y_test, Y_preds)\n",
    "\n"
   ]
  },
  {
   "cell_type": "code",
   "execution_count": 83,
   "metadata": {},
   "outputs": [
    {
     "name": "stdout",
     "output_type": "stream",
     "text": [
      "              precision    recall  f1-score   support\n",
      "\n",
      "           0       0.85      1.00      0.91     42753\n",
      "           1       0.00      0.00      0.00       927\n",
      "           2       0.55      0.03      0.05      7056\n",
      "\n",
      "    accuracy                           0.84     50736\n",
      "   macro avg       0.46      0.34      0.32     50736\n",
      "weighted avg       0.79      0.84      0.78     50736\n",
      "\n",
      "MAE: \t0.29452459791863767\n",
      "MSE: \t0.5707781456953642\n",
      "ACC: \t0.8436021759697256\n",
      "MCC: \t0.09696603699771505\n"
     ]
    },
    {
     "name": "stderr",
     "output_type": "stream",
     "text": [
      "/home/slavoj/mambaforge/envs/experimental_2/lib/python3.9/site-packages/sklearn/metrics/_classification.py:1318: UndefinedMetricWarning: Precision and F-score are ill-defined and being set to 0.0 in labels with no predicted samples. Use `zero_division` parameter to control this behavior.\n",
      "  _warn_prf(average, modifier, msg_start, len(result))\n",
      "/home/slavoj/mambaforge/envs/experimental_2/lib/python3.9/site-packages/sklearn/metrics/_classification.py:1318: UndefinedMetricWarning: Precision and F-score are ill-defined and being set to 0.0 in labels with no predicted samples. Use `zero_division` parameter to control this behavior.\n",
      "  _warn_prf(average, modifier, msg_start, len(result))\n",
      "/home/slavoj/mambaforge/envs/experimental_2/lib/python3.9/site-packages/sklearn/metrics/_classification.py:1318: UndefinedMetricWarning: Precision and F-score are ill-defined and being set to 0.0 in labels with no predicted samples. Use `zero_division` parameter to control this behavior.\n",
      "  _warn_prf(average, modifier, msg_start, len(result))\n"
     ]
    }
   ],
   "source": [
    "with mlflow.start_run(run_name = \"LGBM, umap = 10\", experiment_id = 1) as run:\n",
    "    lgbm_umap = lightgbm.LGBMClassifier()\n",
    "    lgbm_umap.fit(dim_reduced_X_train, Y_train)\n",
    "    Y_preds = lgbm_umap.predict(dim_reduced_X_test)\n",
    "    custom_logging(Y_test, Y_preds)"
   ]
  },
  {
   "cell_type": "code",
   "execution_count": 89,
   "metadata": {},
   "outputs": [
    {
     "data": {
      "image/png": "[encoded data removed]",
      "text/plain": [
       "<Figure size 720x720 with 4 Axes>"
      ]
     },
     "metadata": {
      "needs_background": "light"
     },
     "output_type": "display_data"
    }
   ],
   "source": [
    "fig, axs = plt.subplots(nrows= 2, ncols = 2, figsize = (10,10))\n",
    "dim_features = pd.DataFrame(dim_reduced_X_train)\n",
    "dim_features.columns = [\"pca_\" + str(i) for i in range(len(dim_features.columns))]\n",
    "\n",
    "i, j = 0, 0\n",
    "for model in [decision_tree_umap, rf_umap, xgb_umap, lgbm_umap]:\n",
    "    if i == 2:\n",
    "        i = 0\n",
    "        j = 1\n",
    "    fi_subset = pd.DataFrame(model.feature_importances_, index = dim_features.columns,\n",
    "            columns = ['f_importance']).sort_values(by = 'f_importance', ascending=False)\n",
    "    \n",
    "    sns.barplot( y = fi_subset.index, x = fi_subset.f_importance,\n",
    "            ax = axs[i][j],order = dim_features.columns,\n",
    "            palette = 'icefire').set_title(f\"{type(model).__name__}\")\n",
    " \n",
    "    i += 1\n",
    "    \n",
    "plt.suptitle(\"Feature importances for various tree based methods after UMAP\")   \n",
    "plt.tight_layout()\n",
    "plt.savefig(\"plots/fi_umap\")\n",
    "plt.show()"
   ]
  },
  {
   "cell_type": "code",
   "execution_count": null,
   "metadata": {},
   "outputs": [],
   "source": []
  }
 ],
 "metadata": {
  "interpreter": {
   "hash": "6d3e908345fa82e1872daf6a9ed61ed3bd27b2062f169dfd72ab980ac9477338"
  },
  "kernelspec": {
   "display_name": "Python 3.9.9 64-bit ('experimental_2': conda)",
   "language": "python",
   "name": "python3"
  },
  "language_info": {
   "codemirror_mode": {
    "name": "ipython",
    "version": 3
   },
   "file_extension": ".py",
   "mimetype": "text/x-python",
   "name": "python",
   "nbconvert_exporter": "python",
   "pygments_lexer": "ipython3",
   "version": "3.9.9"
  },
  "orig_nbformat": 4
 },
 "nbformat": 4,
 "nbformat_minor": 2
}
