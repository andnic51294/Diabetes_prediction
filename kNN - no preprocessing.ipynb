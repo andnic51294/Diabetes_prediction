{
 "cells": [
  {
   "cell_type": "code",
   "execution_count": null,
   "id": "7f4fcfc9",
   "metadata": {},
   "outputs": [],
   "source": [
    "# kNN -> k = 3; no data preprocessing"
   ]
  },
  {
   "cell_type": "code",
   "execution_count": 1,
   "id": "aa44be2a",
   "metadata": {},
   "outputs": [],
   "source": [
    "import numpy as np\n",
    "import pandas as pd\n",
    "import seaborn as sns\n",
    "import matplotlib.pyplot as plt\n",
    "import math\n",
    "from sklearn.model_selection import train_test_split\n",
    "from sklearn.neighbors import KNeighborsClassifier\n",
    "\n",
    "from sklearn.metrics import accuracy_score\n",
    "from sklearn.metrics import classification_report\n",
    "from sklearn.metrics import confusion_matrix"
   ]
  },
  {
   "cell_type": "code",
   "execution_count": 2,
   "id": "e72c18aa",
   "metadata": {},
   "outputs": [],
   "source": [
    "data = pd.read_csv('diabetes_012_health_indicators_BRFSS2015.csv')"
   ]
  },
  {
   "cell_type": "code",
   "execution_count": 3,
   "id": "5440f43a",
   "metadata": {},
   "outputs": [],
   "source": [
    "# less_data = data[:len(data)//1] #use only 20% of the data\n",
    "# X = less_data.copy()\n",
    "# Y = X.pop('Diabetes_012')"
   ]
  },
  {
   "cell_type": "code",
   "execution_count": 4,
   "id": "b8c31d71",
   "metadata": {},
   "outputs": [],
   "source": [
    "X=data.drop([\"Diabetes_012\"],axis=1)\n",
    "Y=data[\"Diabetes_012\"]"
   ]
  },
  {
   "cell_type": "code",
   "execution_count": 5,
   "id": "e1ccad7f",
   "metadata": {},
   "outputs": [
    {
     "name": "stdout",
     "output_type": "stream",
     "text": [
      "(202944, 21)\n",
      "(202944,)\n",
      "(50736, 21)\n",
      "(50736,)\n"
     ]
    }
   ],
   "source": [
    "X_train, X_test, Y_train, Y_test = train_test_split( X, Y, test_size=0.2, random_state=20)\n",
    "\n",
    "print(X_train.shape)\n",
    "print(Y_train.shape)\n",
    "print(X_test.shape)\n",
    "print(Y_test.shape)"
   ]
  },
  {
   "cell_type": "code",
   "execution_count": null,
   "id": "45e986ca",
   "metadata": {},
   "outputs": [],
   "source": [
    "kNN = KNeighborsClassifier(n_neighbors=3) \n",
    "kNN.fit(X_train, Y_train) \n",
    "Y_pred = kNN.predict(X_test) "
   ]
  },
  {
   "cell_type": "code",
   "execution_count": 8,
   "id": "b02f44ad",
   "metadata": {},
   "outputs": [
    {
     "name": "stdout",
     "output_type": "stream",
     "text": [
      "Accuracy score:  82.24337748344371\n",
      "F1_Score:  79.85332245532362\n",
      "MCC:  0.1994794213538706\n",
      "MSE:  0.6526726584673604\n",
      "MAE:  0.3359350362661621\n",
      "Classification report \n",
      "                precision    recall  f1-score   support\n",
      "\n",
      "         0.0       0.87      0.94      0.90     42753\n",
      "         1.0       0.06      0.00      0.01       927\n",
      "         2.0       0.37      0.23      0.28      7056\n",
      "\n",
      "    accuracy                           0.82     50736\n",
      "   macro avg       0.43      0.39      0.40     50736\n",
      "weighted avg       0.78      0.82      0.80     50736\n",
      "\n",
      "Confusion matrix \n",
      "  [[40094    40  2619]\n",
      " [  787     3   137]\n",
      " [ 5416    10  1630]]\n"
     ]
    }
   ],
   "source": [
    "from sklearn.metrics import mean_absolute_error, mean_squared_error, matthews_corrcoef, accuracy_score, f1_score\n",
    "\n",
    "print(\"Accuracy score: \", accuracy_score(Y_test, Y_pred)*100)\n",
    "print(\"F1_Score: \", f1_score(Y_test, Y_pred, average='weighted')*100) #F1-Score\n",
    "print (\"MCC: \", matthews_corrcoef(Y_test, Y_pred)) # mcc\n",
    "print(\"MSE: \", mean_squared_error(Y_test, Y_pred)) #mse\n",
    "print(\"MAE: \", mean_absolute_error(Y_test, Y_pred)) #mae\n",
    "print(\"\\n Classification report \\n \", classification_report(Y_test, Y_pred))\n",
    "print(\"\\n Confusion matrix \\n \", confusion_matrix(Y_test, Y_pred))"
   ]
  },
  {
   "cell_type": "code",
   "execution_count": null,
   "id": "027cdc9d",
   "metadata": {},
   "outputs": [],
   "source": []
  }
 ],
 "metadata": {
  "kernelspec": {
   "display_name": "Python 3",
   "language": "python",
   "name": "python3"
  },
  "language_info": {
   "codemirror_mode": {
    "name": "ipython",
    "version": 3
   },
   "file_extension": ".py",
   "mimetype": "text/x-python",
   "name": "python",
   "nbconvert_exporter": "python",
   "pygments_lexer": "ipython3",
   "version": "3.8.8"
  }
 },
 "nbformat": 4,
 "nbformat_minor": 5
}
